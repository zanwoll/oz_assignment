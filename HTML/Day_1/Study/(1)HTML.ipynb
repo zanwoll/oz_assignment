{
 "cells": [
  {
   "metadata": {},
   "cell_type": "markdown",
   "source": [
    "## 웹개발과 HTML\n",
    "\n",
    "### 웹 개발이란?\n",
    "* 인터넷과 웹을 통해 공유할 웹 사이트를 만드는ㅇ ㅣㄹ과 이를 서비스하기 위해 필요한 다양한 환경을 구축하는 일\n",
    "* HTML과 CSS를 이용해 만들 화면을 가리켜 '웹 페이지'라 한다. 웹 페이지는 다른 웹 페이지들과 그룹으로 묶이거나 연결되어 하나의 '웹 사이트'를 형성\n",
    "\n",
    "### HTML이란?\n",
    "* HTML은 하이퍼텍스트마크업랭귀지 (Hyper Text Markup Language)를 의미 = 웹 페이지의 콘텐츠를 정의하기 위해 사용하는 언어"
   ],
   "id": "5ce5660187d34d3f"
  },
  {
   "metadata": {},
   "cell_type": "markdown",
   "source": [
    "<p></p> : 텍스트를 표시\n",
    "<hr> : 수평선을 표시한다\n",
    "<br> : 줄바꿈"
   ],
   "id": "7e841e7c69099584"
  }
 ],
 "metadata": {
  "kernelspec": {
   "display_name": "Python 3",
   "language": "python",
   "name": "python3"
  },
  "language_info": {
   "codemirror_mode": {
    "name": "ipython",
    "version": 2
   },
   "file_extension": ".py",
   "mimetype": "text/x-python",
   "name": "python",
   "nbconvert_exporter": "python",
   "pygments_lexer": "ipython2",
   "version": "2.7.6"
  }
 },
 "nbformat": 4,
 "nbformat_minor": 5
}
