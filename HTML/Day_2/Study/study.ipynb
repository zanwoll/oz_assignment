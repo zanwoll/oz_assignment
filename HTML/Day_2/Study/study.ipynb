{
 "cells": [
  {
   "metadata": {},
   "cell_type": "markdown",
   "source": [
    "CSS의 역할은 HTML 문서에 스타일을 추가하는 것\n",
    "\n",
    "선택자{\n",
    "    속성명: 속성값;\n",
    "}\n",
    "\n",
    "선택자 : 어떤 요소에 스타일을 적용 할지에 대한 정보\n",
    "[]중괄호 : 선택한 요소에 적용할 스타일을 정의하는 영역\n",
    "속성명 : 어떤 스타일을 정의하고 싶은지에 대한 정보\n",
    "속성값 : 어떻게 정의하고 싶은지에 대한 정보"
   ],
   "id": "22272cef1bee5cb0"
  }
 ],
 "metadata": {
  "kernelspec": {
   "display_name": "Python 3",
   "language": "python",
   "name": "python3"
  },
  "language_info": {
   "codemirror_mode": {
    "name": "ipython",
    "version": 2
   },
   "file_extension": ".py",
   "mimetype": "text/x-python",
   "name": "python",
   "nbconvert_exporter": "python",
   "pygments_lexer": "ipython2",
   "version": "2.7.6"
  }
 },
 "nbformat": 4,
 "nbformat_minor": 5
}
