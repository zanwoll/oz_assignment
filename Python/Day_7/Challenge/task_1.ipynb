{
 "cells": [
  {
   "cell_type": "markdown",
   "metadata": {},
   "source": [
    "사용자로부터 두 개의 숫자를 입력받아 나눗셈을 수행하는 프로그램을 작성하세요. \n",
    "\n",
    "[예외처리]\n",
    "- 입력 값이 숫자가 아닐 때 발생할 수 있는 ValueError\n",
    "- 나누는 수가 0일 때 발생할 수 있는 ZeroDivisionError\n",
    "- 위 2가지 예외처리 후 사용자에게 이해하기 쉬운 메시지 작성 후 출력되도록 코드를 작성"
   ]
  },
  {
   "metadata": {
    "ExecuteTime": {
     "end_time": "2025-04-24T05:00:54.039566Z",
     "start_time": "2025-04-24T05:00:51.319651Z"
    }
   },
   "cell_type": "code",
   "source": [
    "def oz():\n",
    "    try:\n",
    "        num1 = int(input(\"첫번째 숫자를 입력해주세요\"))\n",
    "        num2 = int(input(\"두번째 숫자를 입력해주세요\"))\n",
    "        result = num1 / num2\n",
    "        print(f'{num1} % {num2} = {result}')\n",
    "    except ValueError:\n",
    "        print(\"유효한 숫자를 입력해주세요\")\n",
    "    except ZeroDivisionError:\n",
    "        print(\"0으로 나눌 수 없습니다.\")\n",
    "\n",
    "oz()"
   ],
   "outputs": [
    {
     "name": "stdout",
     "output_type": "stream",
     "text": [
      "0으로 나눌 수 없습니다.\n"
     ]
    }
   ],
   "execution_count": 8
  }
 ],
 "metadata": {
  "language_info": {
   "name": "python"
  }
 },
 "nbformat": 4,
 "nbformat_minor": 2
}
