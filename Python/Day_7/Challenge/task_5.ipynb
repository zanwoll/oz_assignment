{
 "cells": [
  {
   "cell_type": "markdown",
   "metadata": {},
   "source": [
    "datetime 모듈을 사용하여 현재 날짜와 시간을 출력하는 프로그램을 작성하세요. \n",
    "\n",
    "또한, 사용자로부터 태어난 년도를 입력받아 현재 나이를 계산하여 출력하세요."
   ]
  },
  {
   "metadata": {
    "ExecuteTime": {
     "end_time": "2025-04-25T15:23:28.712301Z",
     "start_time": "2025-04-25T15:23:23.944001Z"
    }
   },
   "cell_type": "code",
   "source": [
    "import datetime\n",
    "\n",
    "print(\"오늘 날짜와 시간 출력\")\n",
    "now = datetime.datetime.now()\n",
    "output_1 = f'{now.year}년 {now.month}월 {now.day}일 {now.hour}시 {now.minute}분 {now.second}초'\n",
    "print(output_1)\n",
    "\n",
    "try:\n",
    "    birth_year = int(input(\"태어난 년도를 입력해주세요: \"))\n",
    "    age = now.year - birth_year\n",
    "    print(f\"{age}\")\n",
    "except ValueError as e:\n",
    "    print(e)"
   ],
   "outputs": [
    {
     "name": "stdout",
     "output_type": "stream",
     "text": [
      "오늘 날짜와 시간 출력\n",
      "2025년 4월 26일 0시 23분 23초\n",
      "21\n"
     ]
    }
   ],
   "execution_count": 1
  }
 ],
 "metadata": {
  "language_info": {
   "name": "python"
  }
 },
 "nbformat": 4,
 "nbformat_minor": 2
}
