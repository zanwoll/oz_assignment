{
 "cells": [
  {
   "cell_type": "markdown",
   "metadata": {},
   "source": [
    "파일을 읽어서 내용을 출력하는 프로그램을 작성하세요. \n",
    "\n",
    "- 파일이 존재하지 않을 때 발생하는 FileNotFoundError를 처리\n",
    "- 파일이 존재하지 않을 경우 \"파일을 찾을 수 없습니다.\"라는 메시지를 출력"
   ]
  },
  {
   "metadata": {
    "ExecuteTime": {
     "end_time": "2025-04-24T05:10:35.752406Z",
     "start_time": "2025-04-24T05:10:29.207007Z"
    }
   },
   "cell_type": "code",
   "source": [
    "file_name = input(\"읽을 파일 이름을 입력해주세요 : \")\n",
    "\n",
    "try:\n",
    "    file = open(file_name, 'r')\n",
    "    content = file.read()\n",
    "    print(\"파일 내용\")\n",
    "    print(content)\n",
    "except FileNotFoundError:\n",
    "    print(\"파일을 찾을 수 없습니다.\")"
   ],
   "outputs": [
    {
     "name": "stdout",
     "output_type": "stream",
     "text": [
      "파일을 찾을 수 없습니다.\n"
     ]
    }
   ],
   "execution_count": 4
  }
 ],
 "metadata": {
  "language_info": {
   "name": "python"
  }
 },
 "nbformat": 4,
 "nbformat_minor": 2
}
