{
 "cells": [
  {
   "cell_type": "markdown",
   "metadata": {},
   "source": [
    "여러분이 자주 사용하는 수학적 연산<br>\n",
    "(예: 삼각형 넓이, 원의 넓이, 직육면체의 넓이)을 수행하는 함수들을 포함하는 mymath.py라는 이름의 모듈을 만드세요. \n",
    "\n",
    "이 모듈을 사용하여 작성된 함수들을 실제로 임포트하고 사용하는 간단한 프로그램을 작성하세요."
   ]
  },
  {
   "cell_type": "markdown",
   "metadata": {},
   "source": []
  },
  {
   "metadata": {},
   "cell_type": "code",
   "source": [
    "import mymath\n",
    "\n",
    "def main():\n",
    "    # 삼각형 넓이 계산\n",
    "    base = 5\n",
    "    height = 4\n",
    "    triangle_area = mymath.triangle_area(base, height)\n",
    "    print(f\"밑변이 {base}, 높이가 {height}인 삼각형의 넓이: {triangle_area}\")\n",
    "\n",
    "    # 원의 넓이 계산\n",
    "    radius = 3\n",
    "    circle_area = mymath.circle_area(radius)\n",
    "    print(f\"반지름이 {radius}인 원의 넓이: {circle_area:.2f}\")\n",
    "\n",
    "    # 직사각형의 넓이 계산\n",
    "    length = 6\n",
    "    width = 4\n",
    "    rectangle_area = mymath.rectangle_area(length, width)\n",
    "    print(f\"길이가 {length}, 너비가 {width}인 직사각형의 넓이: {rectangle_area}\")\n",
    "\n",
    "    # 직육면체의 부피 계산\n",
    "    height_box = 5\n",
    "    box_volume = mymath.rectangular_prism_volume(length, width, height_box)\n",
    "    print(f\"길이가 {length}, 너비가 {width}, 높이가 {height_box}인 직육면체의 부피: {box_volume}\")\n",
    "\n",
    "    # 원기둥의 부피 계산\n",
    "    cylinder_height = 10\n",
    "    cylinder_volume = mymath.cylinder_volume(radius, cylinder_height)\n",
    "    print(f\"반지름이 {radius}, 높이가 {cylinder_height}인 원기둥의 부피: {cylinder_volume:.2f}\")\n",
    "\n",
    "if __name__ == \"__main__\":\n",
    "    main()"
   ],
   "outputs": [],
   "execution_count": null
  }
 ],
 "metadata": {
  "language_info": {
   "name": "python"
  }
 },
 "nbformat": 4,
 "nbformat_minor": 2
}
