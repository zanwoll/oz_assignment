{
 "cells": [
  {
   "cell_type": "markdown",
   "metadata": {},
   "source": [
    "사용자 정의 예외 NegativeNumberError를 생성하고, 사용자로부터 숫자를 입력받아 음수일 경우 NegativeNumberError를 발생시키는 프로그램을 작성하세요. \n",
    "\n",
    "- 예외 처리 구문을 사용하여 음수 입력 시 \"양수를 입력해주세요.\"라는 메시지를 출력"
   ]
  },
  {
   "metadata": {
    "ExecuteTime": {
     "end_time": "2025-04-24T05:26:06.542414Z",
     "start_time": "2025-04-24T05:25:59.034013Z"
    }
   },
   "cell_type": "code",
   "source": [
    "class NegativeNumberError(Exception):\n",
    "    pass\n",
    "while True:\n",
    "    try:\n",
    "        number = input(\"양수를 입력해주세요\")\n",
    "        number = float(number)\n",
    "        if number < 0:\n",
    "            raise NegativeNumberError\n",
    "        print(f\"입력한 양수는 {number}입니다.\")\n",
    "        break\n",
    "    except NegativeNumberError:\n",
    "        print(\"양수를 입력해주세요.\")\n"
   ],
   "outputs": [
    {
     "name": "stdout",
     "output_type": "stream",
     "text": [
      "양수를 입력해주세요.\n",
      "입력한 양수는 3.0입니다.\n"
     ]
    }
   ],
   "execution_count": 36
  }
 ],
 "metadata": {
  "language_info": {
   "name": "python"
  }
 },
 "nbformat": 4,
 "nbformat_minor": 2
}
