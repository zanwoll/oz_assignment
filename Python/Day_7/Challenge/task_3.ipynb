{
 "cells": [
  {
   "cell_type": "markdown",
   "metadata": {},
   "source": [
    "사용자로부터 여러 개의 숫자를 입력받아 리스트에 저장한 후, 사용자가 'done'이라고 입력할 때까지 계속 입력받으세요. \n",
    "\n",
    "- 입력 중 숫자가 아닌 값이 입력되면 ValueError를 처리\n",
    "- 숫자 외 값이 입력된 경우 어떤 값이 잘못 입력되었는지 사용자에게 알려주는 문구 출력<br>\n",
    "  (예: f\"잘못된 값: {변수}. 숫자를 입력해주세요.\")\n",
    "\n"
   ]
  },
  {
   "metadata": {
    "ExecuteTime": {
     "end_time": "2025-04-24T05:16:01.173001Z",
     "start_time": "2025-04-24T05:15:34.621128Z"
    }
   },
   "cell_type": "code",
   "source": [
    "numbers = []\n",
    "\n",
    "print(\"숫자를 입력해주세요. 그만두려면 'done'을 입력해주세요.\")\n",
    "while True:\n",
    "    number_input = input(\"숫자 입력\")\n",
    "    if number_input == \"done\":\n",
    "        break\n",
    "\n",
    "    try:\n",
    "        number = float(number_input)\n",
    "        numbers.append(number)\n",
    "    except ValueError:\n",
    "        print(f\"잘못된 값: {number_input}. 숫자를 입력해주세요.\")\n",
    "\n"
   ],
   "outputs": [
    {
     "name": "stdout",
     "output_type": "stream",
     "text": [
      "숫자를 입력해주세요. 그만두려면 'done'을 입력해주세요.\n",
      "잘못된 값: 하지마. 숫자를 입력해주세요.\n",
      "잘못된 값: 이거 아니야?. 숫자를 입력해주세요.\n"
     ]
    }
   ],
   "execution_count": 3
  }
 ],
 "metadata": {
  "language_info": {
   "name": "python"
  }
 },
 "nbformat": 4,
 "nbformat_minor": 2
}
