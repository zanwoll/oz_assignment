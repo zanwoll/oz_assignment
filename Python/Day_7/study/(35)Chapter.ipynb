{
 "cells": [
  {
   "metadata": {},
   "cell_type": "markdown",
   "source": [
    "[예외 객체]\n",
    "* Exception을 사용하면 예외의 종류에 대해 알 수 있습니다."
   ],
   "id": "f72afe495d16341b"
  },
  {
   "metadata": {},
   "cell_type": "code",
   "outputs": [],
   "execution_count": null,
   "source": [
    "try:\n",
    "    x, y = map(int, input(\"밑변과 높이를 입력해주세요\").split(\" \"))\n",
    "    print(f'삼각형의 넓이는 {x*y/2}입니다.')\n",
    "except:\n",
    "    print(\"정수로 입력하지 않아 계산이 불가합니다\")"
   ],
   "id": "3eb031a5da6d1665"
  },
  {
   "metadata": {
    "ExecuteTime": {
     "end_time": "2025-04-24T01:42:43.134850Z",
     "start_time": "2025-04-24T01:42:33.140656Z"
    }
   },
   "cell_type": "code",
   "source": [
    "try:\n",
    "    x, y = map(int, input(\"밑변과 높이를 입력해주세요\").split(\" \"))\n",
    "    print(f'삼각형의 넓이는 {x*y/2}입니다.')\n",
    "except Exception as exception:\n",
    "    print(\"type(exception)\", type(exception))\n",
    "    print(\"exception\", exception)"
   ],
   "id": "150f8747a6ae99b9",
   "outputs": [
    {
     "name": "stdout",
     "output_type": "stream",
     "text": [
      "type(exception) <class 'ValueError'>\n",
      "exception invalid literal for int() with base 10: '3cm'\n"
     ]
    }
   ],
   "execution_count": 1
  },
  {
   "metadata": {},
   "cell_type": "markdown",
   "source": [
    "예외 객체 자료형은 Value Error이고\n",
    "\n",
    "내용은 invalid literal for in() with base 10: '3cm'입니다.\n",
    "\n",
    "[예외 구분하기]\n",
    "* 여러 가지 예외가 발생하는 상황을 구분지어 대비하기 위함"
   ],
   "id": "51a58ecaadbedee7"
  },
  {
   "metadata": {
    "ExecuteTime": {
     "end_time": "2025-04-24T01:47:28.628834Z",
     "start_time": "2025-04-24T01:47:26.219246Z"
    }
   },
   "cell_type": "code",
   "source": [
    "numbers = [23, 11, 7, 4, 12]\n",
    "\n",
    "try:\n",
    "    numbers_input = int(input(\"찾고싶은 값의 위치를 입력해주세요\"))\n",
    "    print(f'{numbers_input}번째 요소 : {numbers[numbers_input]}')\n",
    "except Exception as exception:\n",
    "    print(\"type(exception)\", type(exception))\n",
    "    print(\"exception\", exception)"
   ],
   "id": "b36be0550751fb28",
   "outputs": [
    {
     "name": "stdout",
     "output_type": "stream",
     "text": [
      "type(exception) <class 'IndexError'>\n",
      "exception list index out of range\n"
     ]
    }
   ],
   "execution_count": 3
  },
  {
   "metadata": {},
   "cell_type": "markdown",
   "source": [
    "[exception list index out of range]와 같은 에러를 구분하고 처리할 수 있는 기능을 파이썬에서 제공합니다.\n",
    "\n",
    "try:\n",
    "* 예외가 발생할 가능성이 있는 구문\n",
    "\n",
    "except:\n",
    "* 예외 a가 발생했을 때 실행할 구문\n",
    "\n",
    "except 예외 b:\n",
    "* 예외 b가 발생했을 때 실행할 구문\n",
    "\n",
    "except 예외 c:\n",
    "* 예외 c가 발생했을 때 실행할 구문"
   ],
   "id": "f9675fc5e933509e"
  },
  {
   "metadata": {
    "ExecuteTime": {
     "end_time": "2025-04-24T01:52:36.385866Z",
     "start_time": "2025-04-24T01:52:34.087961Z"
    }
   },
   "cell_type": "code",
   "source": [
    "numbers = [23, 11, 7, 4, 12]\n",
    "\n",
    "try:\n",
    "    numbers_input = int(input(\"찾고싶은 값의 위치를 입력해주세요\"))\n",
    "    print(f'{numbers_input}번째 요소 : {numbers[numbers_input]}')\n",
    "except ValueError:\n",
    "    print(\"정수로 입력해주세요\")\n",
    "except IndexError:\n",
    "    print(\"리스트의 범위를 벗어났습니다. 입력값을 다시 확인해주세요\")"
   ],
   "id": "6f0218562d48f77a",
   "outputs": [
    {
     "name": "stdout",
     "output_type": "stream",
     "text": [
      "리스트의 범위를 벗어났습니다. 입력값을 다시 확인해주세요\n"
     ]
    }
   ],
   "execution_count": 5
  },
  {
   "metadata": {},
   "cell_type": "markdown",
   "source": [
    "[예외 구분 구문과 예외 객체]\n",
    "\n",
    "as 키워드를 이용해 as exception을 사용할 수 있음"
   ],
   "id": "f314b7ad055023e9"
  },
  {
   "metadata": {
    "ExecuteTime": {
     "end_time": "2025-04-24T01:54:31.964083Z",
     "start_time": "2025-04-24T01:54:29.547488Z"
    }
   },
   "cell_type": "code",
   "source": [
    "numbers = [23, 11, 7, 4, 12]\n",
    "\n",
    "try:\n",
    "    numbers_input = int(input(\"찾고싶은 값의 위치를 입력해주세요\"))\n",
    "    print(f'{numbers_input}번째 요소 : {numbers[numbers_input]}')\n",
    "except ValueError as exception:\n",
    "    print(\"정수로 입력해주세요\")\n",
    "    print(\"exception\", exception)\n",
    "except IndexError as exception:\n",
    "    print(\"리스트의 범위를 벗어났습니다. 입력값을 다시 확인해주세요\")\n",
    "    print(\"exception\", exception)"
   ],
   "id": "d87fa0a5ecae2eab",
   "outputs": [
    {
     "name": "stdout",
     "output_type": "stream",
     "text": [
      "정수로 입력해주세요\n",
      "exception invalid literal for int() with base 10: 'oz'\n"
     ]
    }
   ],
   "execution_count": 6
  },
  {
   "metadata": {},
   "cell_type": "markdown",
   "source": "프로그램 실행 중 위 2가지 예외처리로 처리가 불가능한 경우를 대비해 앞서 사용했던 모든 예외 처리가 가능한 Exception을 이용해 대처할 수 있습니다",
   "id": "2710cd4736339cd9"
  },
  {
   "metadata": {
    "ExecuteTime": {
     "end_time": "2025-04-24T01:58:51.685047Z",
     "start_time": "2025-04-24T01:58:41.236437Z"
    }
   },
   "cell_type": "code",
   "source": [
    "numbers = [23, 11, 7, 4, 12]\n",
    "\n",
    "try:\n",
    "    numbers_input = int(input(\"찾고싶은 값의 위치를 입력해주세요\"))\n",
    "    print(f'{numbers_input}번째 요소 : {numbers[numbers_input]}')\n",
    "    에러를.만들겠어\n",
    "except ValueError as exception:\n",
    "    print(\"정수로 입력해주세요\")\n",
    "    print(\"exception\", exception)\n",
    "except IndexError as exception:\n",
    "    print(\"리스트의 범위를 벗어났습니다. 입력값을 다시 확인해주세요\")\n",
    "    print(\"exception\", exception)\n",
    "except Exception as exception:\n",
    "    print(\"대처 불가한 예외가 발생했습니다.\")\n",
    "    print(\"exception\", exception)"
   ],
   "id": "70162525e54e8180",
   "outputs": [
    {
     "name": "stdout",
     "output_type": "stream",
     "text": [
      "3번째 요소 : 4\n",
      "대처 불가한 예외가 발생했습니다.\n",
      "exception name '에러를' is not defined\n"
     ]
    }
   ],
   "execution_count": 8
  },
  {
   "metadata": {},
   "cell_type": "markdown",
   "source": [
    "예외 종류와 그에 대한 설명을 해주세요(구글링 필요)\n",
    "1. 기본 예외 클래스\n",
    "* Exception: 대부분의 내장 예외의 기본 클래스\n",
    "* BaseException: 모든 내장 예외의 최상위 기본 클래스\n",
    "\n",
    "2. 자주 발생하는 예외\n",
    "* SyntaxError : 파이썬 문법 오류\n",
    "* indentationError : 들여쓰기 오류 (SyntaxError의 하위 클래스)\n",
    "* TapError : 탭과 공백 혼용 오류 (indentationError의 하위 클래스)"
   ],
   "id": "e8533afbd5915b52"
  }
 ],
 "metadata": {
  "kernelspec": {
   "display_name": "Python 3",
   "language": "python",
   "name": "python3"
  },
  "language_info": {
   "codemirror_mode": {
    "name": "ipython",
    "version": 2
   },
   "file_extension": ".py",
   "mimetype": "text/x-python",
   "name": "python",
   "nbconvert_exporter": "python",
   "pygments_lexer": "ipython2",
   "version": "2.7.6"
  }
 },
 "nbformat": 4,
 "nbformat_minor": 5
}
