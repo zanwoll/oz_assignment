{
 "cells": [
  {
   "metadata": {},
   "cell_type": "markdown",
   "source": [
    "raise 구문\n",
    "* 예외를 강제로 발생시키는 기능, 우리가 의도하지 않게 작동하는 상황을 방지하기 위해 사용\n",
    "\n",
    "사용방법 : raise 뒤에 예외 이름을 입력\n",
    "\n",
    "    raise 예외 객체"
   ],
   "id": "bfe12db07ad31f16"
  },
  {
   "metadata": {
    "ExecuteTime": {
     "end_time": "2025-04-24T02:20:39.169285Z",
     "start_time": "2025-04-24T02:20:36.869916Z"
    }
   },
   "cell_type": "code",
   "source": [
    "number = input(\"숫자를 입력해주세요\")\n",
    "number = int(number)\n",
    "\n",
    "if number > 0:\n",
    "    raise NotImplementedError # 아직 미구현 상태이다\n",
    "else:\n",
    "    raise NotImplementedError # 아직 미구현 상태이다"
   ],
   "id": "1ec940c9867d96b6",
   "outputs": [
    {
     "ename": "NotImplementedError",
     "evalue": "",
     "output_type": "error",
     "traceback": [
      "\u001B[31m---------------------------------------------------------------------------\u001B[39m",
      "\u001B[31mNotImplementedError\u001B[39m                       Traceback (most recent call last)",
      "\u001B[36mCell\u001B[39m\u001B[36m \u001B[39m\u001B[32mIn[1]\u001B[39m\u001B[32m, line 5\u001B[39m\n\u001B[32m      2\u001B[39m number = \u001B[38;5;28mint\u001B[39m(number)\n\u001B[32m      4\u001B[39m \u001B[38;5;28;01mif\u001B[39;00m number > \u001B[32m0\u001B[39m:\n\u001B[32m----> \u001B[39m\u001B[32m5\u001B[39m     \u001B[38;5;28;01mraise\u001B[39;00m \u001B[38;5;167;01mNotImplementedError\u001B[39;00m\n\u001B[32m      6\u001B[39m \u001B[38;5;28;01melse\u001B[39;00m:\n\u001B[32m      7\u001B[39m     \u001B[38;5;28;01mraise\u001B[39;00m \u001B[38;5;167;01mNotImplementedError\u001B[39;00m\n",
      "\u001B[31mNotImplementedError\u001B[39m: "
     ]
    }
   ],
   "execution_count": 1
  },
  {
   "metadata": {},
   "cell_type": "code",
   "outputs": [],
   "execution_count": null,
   "source": "",
   "id": "64b5c6fae4866afd"
  }
 ],
 "metadata": {
  "kernelspec": {
   "display_name": "Python 3",
   "language": "python",
   "name": "python3"
  },
  "language_info": {
   "codemirror_mode": {
    "name": "ipython",
    "version": 2
   },
   "file_extension": ".py",
   "mimetype": "text/x-python",
   "name": "python",
   "nbconvert_exporter": "python",
   "pygments_lexer": "ipython2",
   "version": "2.7.6"
  }
 },
 "nbformat": 4,
 "nbformat_minor": 5
}
