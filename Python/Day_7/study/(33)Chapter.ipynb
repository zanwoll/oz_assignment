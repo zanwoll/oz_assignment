{
 "cells": [
  {
   "metadata": {
    "collapsed": true
   },
   "cell_type": "code",
   "outputs": [],
   "source": "# 구문 오류",
   "id": "initial_id",
   "execution_count": null
  },
  {
   "metadata": {},
   "cell_type": "markdown",
   "source": [
    "오류의 종류\n",
    "\n",
    "프로그램 언어의 오류에는 크게 두 가지 종류가 있습니다.\n",
    "* 프로그램 실행 전에 발생하는 오류를 구문 오류라고 합니다.\n",
    "* 프로그램 실행 중에 발생하는 오류를 예외 또는 런타임 오류라고 합니다.\n",
    "\n",
    "\n",
    "[구문 오류]\n",
    "* 괄호의 개수, 들여쓰기 문제 등으로 프로그램이 실행되기도 전에 발생하는 오류"
   ],
   "id": "fb1f84473111511f"
  },
  {
   "metadata": {
    "ExecuteTime": {
     "end_time": "2025-04-24T00:39:54.069271Z",
     "start_time": "2025-04-24T00:39:54.064935Z"
    }
   },
   "cell_type": "code",
   "source": [
    "# 구문오류 예제\n",
    "print(\"오류는 아주 사소한 것 부터 발생합니다.\")"
   ],
   "id": "6d49ef8e2486dd18",
   "outputs": [
    {
     "name": "stdout",
     "output_type": "stream",
     "text": [
      "오류는 아주 사소한 것 부터 발생합니다.\n"
     ]
    }
   ],
   "execution_count": 1
  },
  {
   "metadata": {},
   "cell_type": "code",
   "source": [
    "# 닫는 괄호를 생략한 경우\n",
    "print(\"오류는 아주 사소한 것 부터 발생합니다.\""
   ],
   "id": "6b9a2077e68615c8",
   "outputs": [],
   "execution_count": null
  },
  {
   "metadata": {},
   "cell_type": "markdown",
   "source": [
    "SyntaxError : 구문에 문제가 발생해 프로그램이 실행조차 되지 않는 경우\n",
    "-> 이런 경우 구문 오류를 해결하지 않으면 프로그램을 실행할 수 없습니다."
   ],
   "id": "8ca1387fd25a7047"
  },
  {
   "metadata": {
    "ExecuteTime": {
     "end_time": "2025-04-24T00:43:16.125422Z",
     "start_time": "2025-04-24T00:43:16.122398Z"
    }
   },
   "cell_type": "code",
   "source": [
    "# 생략한 괄호 삽입에 구문오류 해결\n",
    "print(\"오류는 아주 사소한 것 부터 발생합니다.\")"
   ],
   "id": "45f61e99900d536a",
   "outputs": [
    {
     "name": "stdout",
     "output_type": "stream",
     "text": [
      "오류는 아주 사소한 것 부터 발생합니다.\n"
     ]
    }
   ],
   "execution_count": 3
  },
  {
   "metadata": {},
   "cell_type": "markdown",
   "source": [
    "[예외]\n",
    "* 예외 또는 런타임 오류는 실행 중에 발생하는 오류를 말합니다."
   ],
   "id": "7b217560dab893b"
  },
  {
   "metadata": {
    "ExecuteTime": {
     "end_time": "2025-04-24T00:44:29.095699Z",
     "start_time": "2025-04-24T00:44:28.878260Z"
    }
   },
   "cell_type": "code",
   "source": [
    "# 정상 실행\n",
    "print(\"오류는 아주 사소한 것 부터 발생합니다.\")\n",
    "\n",
    "# 예외 발생\n",
    "dogs.append(\"말티즈\")"
   ],
   "id": "3723cbf583ca9540",
   "outputs": [
    {
     "name": "stdout",
     "output_type": "stream",
     "text": [
      "오류는 아주 사소한 것 부터 발생합니다.\n"
     ]
    },
    {
     "ename": "NameError",
     "evalue": "name 'dogs' is not defined",
     "output_type": "error",
     "traceback": [
      "\u001B[31m---------------------------------------------------------------------------\u001B[39m",
      "\u001B[31mNameError\u001B[39m                                 Traceback (most recent call last)",
      "\u001B[36mCell\u001B[39m\u001B[36m \u001B[39m\u001B[32mIn[4]\u001B[39m\u001B[32m, line 5\u001B[39m\n\u001B[32m      2\u001B[39m \u001B[38;5;28mprint\u001B[39m(\u001B[33m\"\u001B[39m\u001B[33m오류는 아주 사소한 것 부터 발생합니다.\u001B[39m\u001B[33m\"\u001B[39m)\n\u001B[32m      4\u001B[39m \u001B[38;5;66;03m# 예외 발생\u001B[39;00m\n\u001B[32m----> \u001B[39m\u001B[32m5\u001B[39m \u001B[43mdogs\u001B[49m.append(\u001B[33m\"\u001B[39m\u001B[33m말티즈\u001B[39m\u001B[33m\"\u001B[39m)\n",
      "\u001B[31mNameError\u001B[39m: name 'dogs' is not defined"
     ]
    }
   ],
   "execution_count": 4
  },
  {
   "metadata": {
    "ExecuteTime": {
     "end_time": "2025-04-24T00:46:00.617019Z",
     "start_time": "2025-04-24T00:46:00.613804Z"
    }
   },
   "cell_type": "code",
   "source": [
    "# 정상 실행\n",
    "print(\"오류는 아주 사소한 것 부터 발생합니다.\")\n",
    "\n",
    "# 예외 발생 코드 해결\n",
    "dogs = [\"닥스훈트\", \"시바견\"]\n",
    "dogs.append(\"말티즈\")\n",
    "print(dogs)"
   ],
   "id": "6d5b515a917c213",
   "outputs": [
    {
     "name": "stdout",
     "output_type": "stream",
     "text": [
      "오류는 아주 사소한 것 부터 발생합니다.\n",
      "['닥스훈트', '시바견', '말티즈']\n"
     ]
    }
   ],
   "execution_count": 5
  },
  {
   "metadata": {},
   "cell_type": "markdown",
   "source": [
    "[ 기본 예외 처리 ]\n",
    "\n",
    "예외를 해결하는 모든 것을 예외 처리라고 합니다.\n",
    "\n",
    "예외 처리하는 2가지 방법\n",
    "* 조건문을 사용하는 방법\n",
    "* try 구문을 사용하는 방법\n",
    "\n",
    "단, 구문 오류가 발생하는 경우는 예외 처리로 불가하기 때문에 코드 자체를 수정하는 방법으로 해결해야합니다.\n",
    "\n",
    "[ 조건문을 이용한 예외 처리 ]\n",
    "* 조건문을 이용한 예외 처리방법을 기본 예외 처리라고 합니다.\n",
    "\n",
    "예외가 발생할 수 있는 상황을 파악하는게 우선입니다. 아래 코드를 통해서 발생할 수 있는 예외 상황을 알아보겠습니다."
   ],
   "id": "14e9af149bcc3a65"
  },
  {
   "metadata": {
    "ExecuteTime": {
     "end_time": "2025-04-24T01:00:38.641611Z",
     "start_time": "2025-04-24T01:00:36.271827Z"
    }
   },
   "cell_type": "code",
   "source": [
    "x, y = map(int, input(\"밑변과 높이를 입력해주세요\").split(\" \"))\n",
    "\n",
    "print(f'삼각형의 넓이는 {x * y / 2}입니다.')"
   ],
   "id": "adbd03776eee74d3",
   "outputs": [
    {
     "name": "stdout",
     "output_type": "stream",
     "text": [
      "삼각형의 넓이는 7.5입니다.\n"
     ]
    }
   ],
   "execution_count": 14
  },
  {
   "metadata": {
    "ExecuteTime": {
     "end_time": "2025-04-24T01:03:07.661696Z",
     "start_time": "2025-04-24T01:03:05.212610Z"
    }
   },
   "cell_type": "code",
   "source": [
    "# x = 3cm, y = 5cm\n",
    "x, y = map(int, input(\"밑변과 높이를 입력해주세요\").split(\" \"))\n",
    "\n",
    "print(f'삼각형의 넓이는 {x * y / 2}입니다.')"
   ],
   "id": "53fdaa52a818112",
   "outputs": [
    {
     "name": "stdout",
     "output_type": "stream",
     "text": [
      "삼각형의 넓이는 7.5입니다.\n"
     ]
    }
   ],
   "execution_count": 15
  },
  {
   "metadata": {},
   "cell_type": "markdown",
   "source": [
    "정수를 입력하지 않아 발생한 오류에 대해 조건으로 구분해서 다른 처리를 할 수 있도록 코드를 수정해보겠습니다.\n",
    "\n",
    "조건문에 사용할 함수는 isdigit()입니다.\n",
    "* isdigit() : 숫자로만 구성되어있는 글자인지를 판단하고 숫자로 변환이 가능한 글자라면 True를 반환합니다.\n",
    "\n",
    "예) num = \"3\"\n",
    "isdigit(num) => True"
   ],
   "id": "65f3f4858bc8ed4e"
  },
  {
   "metadata": {
    "ExecuteTime": {
     "end_time": "2025-04-24T01:12:26.806479Z",
     "start_time": "2025-04-24T01:12:22.972290Z"
    }
   },
   "cell_type": "code",
   "source": [
    "x, y = input(\"밑변과 높이를 입력해주세요\").split(\" \")\n",
    "\n",
    "if x.isdigit() and y.isdigit():\n",
    "    x, y = int(x), int(y)\n",
    "    print(f'삼각형의 넓이는 {x * y / 2}입니다.')\n",
    "\n",
    "else:\n",
    "    print(\"정수로 입력하지 않아 계산이 불가합니다.\")"
   ],
   "id": "557942e279643a10",
   "outputs": [
    {
     "name": "stdout",
     "output_type": "stream",
     "text": [
      "정수로 입력하지 않아 계산이 불가합니다.\n"
     ]
    }
   ],
   "execution_count": 23
  },
  {
   "metadata": {},
   "cell_type": "markdown",
   "source": [
    "오류의 종류에 대해 설명해주세요 :\n",
    "* 오류의 종류에는 구문오류 또는 예외, 런타일 오류가 있습니다.\n",
    "\n",
    "오류 종류별로 해결할 수 있는 방법에 대해 설명해주세요 :\n",
    "* 구문오류 : 구문에 발생한 오류를 찾아 해결해야됩니다. (해결 안할 시 실행이 안됨)\n",
    "* 예외오류 : 조건문을 사용하거나 , try 구문을 사용해서 문제를 해결합니다.\n",
    "\n",
    "isdigit()에 대해 설명해주세요 :\n",
    "* 숫자로만 구성되어있는 글자인지를 판단하고 숫자로 변환이 가능한 글자라면 True를 반환합니다."
   ],
   "id": "ee9b11778910b0d1"
  }
 ],
 "metadata": {
  "kernelspec": {
   "display_name": "Python 3",
   "language": "python",
   "name": "python3"
  },
  "language_info": {
   "codemirror_mode": {
    "name": "ipython",
    "version": 2
   },
   "file_extension": ".py",
   "mimetype": "text/x-python",
   "name": "python",
   "nbconvert_exporter": "python",
   "pygments_lexer": "ipython2",
   "version": "2.7.6"
  }
 },
 "nbformat": 4,
 "nbformat_minor": 5
}
