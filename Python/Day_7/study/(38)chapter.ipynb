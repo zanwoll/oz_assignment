{
 "cells": [
  {
   "metadata": {},
   "cell_type": "markdown",
   "source": [
    "[외부묘듈]\n",
    "\n",
    "파이썬의 장점 중 하나는 다양한 외부모듈 입니다. <br>\n",
    "인공지능 분야에서는 텐서플로와 사이킷런, 웹 분야에서는  django와 fastapi 등 굉장히 많은 모듈들이 존재합니다. <br>\n",
    "이러한 모듈을 설치하는 방법은 pip install이라는 명령을 이용합니다\n",
    "\n",
    "pip install 모듈 이름"
   ],
   "id": "256c2c218c2523f7"
  },
  {
   "metadata": {
    "ExecuteTime": {
     "end_time": "2025-04-24T05:58:02.497555Z",
     "start_time": "2025-04-24T05:58:02.356483Z"
    }
   },
   "cell_type": "code",
   "source": [
    "from urllib import request\n",
    "from bs4 import BeautifulSoup\n",
    "\n",
    "target = request.urlopen('https://www.kma.go.kr/plus/rss/mid-term-rss3.jsp?stnId=108')\n",
    "\n",
    "soup = BeautifulSoup(target, \"html.parser\")\n",
    "\n",
    "for location in soup.select(\"location\"):\n",
    "    print(\"도시:\", location.select_one(\"city\").string)\n",
    "    print(\"날씨:\", location.select_one(\"wf\").string)\n",
    "    print(\"최저기온:\", location.select_one(\"tmn\").string)\n",
    "    print(\"최고기온:\", location.select_one(\"tmx\").string)\n",
    "    print()"
   ],
   "id": "96c08be194f5f9be",
   "outputs": [],
   "execution_count": 42
  },
  {
   "metadata": {},
   "cell_type": "code",
   "outputs": [],
   "execution_count": null,
   "source": "",
   "id": "10a19c3746dc6d99"
  }
 ],
 "metadata": {
  "kernelspec": {
   "display_name": "Python 3",
   "language": "python",
   "name": "python3"
  },
  "language_info": {
   "codemirror_mode": {
    "name": "ipython",
    "version": 2
   },
   "file_extension": ".py",
   "mimetype": "text/x-python",
   "name": "python",
   "nbconvert_exporter": "python",
   "pygments_lexer": "ipython2",
   "version": "2.7.6"
  }
 },
 "nbformat": 4,
 "nbformat_minor": 5
}
