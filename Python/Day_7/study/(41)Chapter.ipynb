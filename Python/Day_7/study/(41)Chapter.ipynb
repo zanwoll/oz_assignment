{
 "cells": [
  {
   "metadata": {},
   "cell_type": "markdown",
   "source": [
    "[패키지]\n",
    "\n",
    "패키지는 모듈의 집합이라고 생각하면 쉽습니다.\n",
    "\n",
    "아래 안내해드리는 방식으로 진행해주세요\n",
    "\n",
    "1. module_package 폴더를 만들어주세요\n",
    "<hr>\n",
    "2. module_package 안에 oz_package라는 폴더를 만들어주세요.\n",
    "<hr>\n",
    "3. oz_module_1.py, oz_module_2.py 파일을 만들어주세요 oz_module_1.py\n",
    "\n",
    "val_1 = \"module_1의 변수\"\n",
    "\n",
    "oz_module_2.py\n",
    "\n",
    "val_2 = \"module_2의 변수\"\n",
    "<hr>\n",
    "4. main.py 파일을 만들어주세요\n",
    "\n",
    "import oz_package.oz_module_1 as one <br>\n",
    "import oz_package.oz_module_2 as two\n",
    "\n",
    "print(one.val_1) <br>\n",
    "print(two.val_2)\n",
    "<hr>\n",
    "5. main.py 파일을 실행해주세요"
   ],
   "id": "a00a2b45a2ca1481"
  },
  {
   "cell_type": "code",
   "execution_count": null,
   "id": "initial_id",
   "metadata": {
    "collapsed": true
   },
   "outputs": [],
   "source": [
    ""
   ]
  }
 ],
 "metadata": {
  "kernelspec": {
   "display_name": "Python 3",
   "language": "python",
   "name": "python3"
  },
  "language_info": {
   "codemirror_mode": {
    "name": "ipython",
    "version": 2
   },
   "file_extension": ".py",
   "mimetype": "text/x-python",
   "name": "python",
   "nbconvert_exporter": "python",
   "pygments_lexer": "ipython2",
   "version": "2.7.6"
  }
 },
 "nbformat": 4,
 "nbformat_minor": 5
}
