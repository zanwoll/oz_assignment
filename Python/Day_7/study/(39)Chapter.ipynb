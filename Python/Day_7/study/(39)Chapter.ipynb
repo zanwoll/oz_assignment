{
 "cells": [
  {
   "metadata": {},
   "cell_type": "markdown",
   "source": [
    "[데코레이터]\n",
    "* @으로 시작하는 구문을 데코레이터라고 함\n",
    "* 데코레이터는 만드는 방법에 따라 함수 데코레이터와 클래스 데코레이터로 나눌 수 있음\n",
    "\n",
    "[함수 데코레이터]\n",
    "\n",
    "함수에 사용되는 데코레이터는 함수 앞뒤에 붙일 내용이나 반복할 내용이 있을 때 사용합니다."
   ],
   "id": "812025d255f7f761"
  },
  {
   "metadata": {
    "ExecuteTime": {
     "end_time": "2025-04-24T04:07:53.562308Z",
     "start_time": "2025-04-24T04:07:53.557338Z"
    }
   },
   "cell_type": "code",
   "source": [
    "def oz():\n",
    "    print(\"파이썬 진짜 재미있엉 하하\")\n",
    "\n",
    "oz()"
   ],
   "id": "fdf5d5e49a96b9bd",
   "outputs": [
    {
     "name": "stdout",
     "output_type": "stream",
     "text": [
      "파이썬 진짜 재미있엉 하하\n"
     ]
    }
   ],
   "execution_count": 1
  },
  {
   "metadata": {
    "ExecuteTime": {
     "end_time": "2025-04-24T04:09:03.444183Z",
     "start_time": "2025-04-24T04:09:03.440418Z"
    }
   },
   "cell_type": "code",
   "source": [
    "def test(function):\n",
    "    def wrapper():\n",
    "        print(\"허언증이 재발했습니다.\")\n",
    "        function()\n",
    "        print(\"격리 되었습니다.\")\n",
    "    return wrapper\n",
    "\n",
    "@test\n",
    "def oz():\n",
    "    print(\"파이썬 진짜 재미있엉 하하\")\n",
    "\n",
    "oz()"
   ],
   "id": "3b4c74b37c82c08e",
   "outputs": [
    {
     "name": "stdout",
     "output_type": "stream",
     "text": [
      "허언증이 재발했습니다.\n",
      "파이썬 진짜 재미있엉 하하\n",
      "격리 되었습니다.\n"
     ]
    }
   ],
   "execution_count": 2
  },
  {
   "metadata": {},
   "cell_type": "markdown",
   "source": "웹 프레임워크에서 굉장히 많이 사용되는 기능입니다.",
   "id": "c1945480e71fb3be"
  }
 ],
 "metadata": {
  "kernelspec": {
   "display_name": "Python 3",
   "language": "python",
   "name": "python3"
  },
  "language_info": {
   "codemirror_mode": {
    "name": "ipython",
    "version": 2
   },
   "file_extension": ".py",
   "mimetype": "text/x-python",
   "name": "python",
   "nbconvert_exporter": "python",
   "pygments_lexer": "ipython2",
   "version": "2.7.6"
  }
 },
 "nbformat": 4,
 "nbformat_minor": 5
}
