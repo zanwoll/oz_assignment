{
 "cells": [
  {
   "metadata": {},
   "cell_type": "markdown",
   "source": [
    "[ try except 구문 ]\n",
    "* 모든 예외처리 사항을 조건문으로 처리하는 건 굉장히 귀찮고 어려운 문제입니다\n",
    "* try except 구문으로 예외처리 진행\n",
    "\n",
    "try except 구문 기본 구조\n",
    "    try:\n",
    "        예외가 발생할 가능성이 있는 코드\n",
    "    except:\n",
    "        예외가 발생했을 때 실행할 코드"
   ],
   "id": "98437c7fe97ec642"
  },
  {
   "metadata": {},
   "cell_type": "code",
   "outputs": [],
   "execution_count": null,
   "source": [
    "# 조건문으로 예외 처리한 코드\n",
    "# x = 3cm, y = 5cm\n",
    "x, y = input(\"밑변과 높이를 입력해주세요\").split(\" \")\n",
    "\n",
    "if x.isdigit() and y.isdigit():\n",
    "    x = int(x), int(y)\n",
    "    print(f'삼각형의 넓이는 {x*y/2}입니다.')\n",
    "else:\n",
    "    print(\"정수로 입력하지 않아 계산이 불가합니다.\")"
   ],
   "id": "12cd9337ac576846"
  },
  {
   "metadata": {
    "ExecuteTime": {
     "end_time": "2025-04-25T15:22:59.659513Z",
     "start_time": "2025-04-25T15:22:55.667912Z"
    }
   },
   "cell_type": "code",
   "source": [
    "try:\n",
    "    x, y = map(input(\"밑변과 높이를 입력해주세요\").split(\" \"))\n",
    "    print(f'삼각형의 넓이는 {x*y/2}입니다.')\n",
    "except:\n",
    "    print(\"정수로 입력하지 않아 계산이 불가합니다.\")"
   ],
   "id": "d11a915df3b764a7",
   "outputs": [
    {
     "name": "stdout",
     "output_type": "stream",
     "text": [
      "정수로 입력하지 않아 계산이 불가합니다.\n"
     ]
    }
   ],
   "execution_count": 1
  },
  {
   "metadata": {},
   "cell_type": "markdown",
   "source": [
    "try except 구문과 pass 키워드 조합 구조\n",
    "* 에외가 발생하더라도 지금 당장 처리하지 않아도 되는 부분이라면 pass 키워드를 사용할 수 있습니다\n",
    "\n",
    "try:\n",
    "\n",
    "    예외가 발생할 가능성이 있는 코드\n",
    "\n",
    "except:\n",
    "\n",
    "    pass"
   ],
   "id": "67f143ca78285724"
  },
  {
   "metadata": {
    "ExecuteTime": {
     "end_time": "2025-04-24T01:27:28.849520Z",
     "start_time": "2025-04-24T01:27:28.845944Z"
    }
   },
   "cell_type": "code",
   "source": [
    "list_input = [\"1\", \"7\", \"3\", \"스파이\", \"4\"]\n",
    "list_number = []\n",
    "\n",
    "for item in list_input:\n",
    "    try:\n",
    "        int(item)\n",
    "        list_number.append(item)\n",
    "    except:\n",
    "        pass\n",
    "\n",
    "print(f'{list_input}내부에 있는 숫자는')\n",
    "print(f'{list_number}입니다.')"
   ],
   "id": "76c950968708a3d9",
   "outputs": [
    {
     "name": "stdout",
     "output_type": "stream",
     "text": [
      "['1', '7', '3', '스파이', '4']내부에 있는 숫자는\n",
      "['1', '7', '3', '4']입니다.\n"
     ]
    }
   ],
   "execution_count": 6
  },
  {
   "metadata": {},
   "cell_type": "markdown",
   "source": [
    "try, except 구문과 else 키워드 조합 구조\n",
    "* else 구문을 붙여서 사용하면 '에외가 발생하지 않았을 때 실행항 코드를 지정할 수 있습니다'\n",
    "\n",
    "try:\n",
    "\n",
    "    예외가 발생할 가능성이 있는 코드\n",
    "\n",
    "except:\n",
    "\n",
    "    예외가 발생했을 때 실행할 코드\n",
    "\n",
    "else:\n",
    "\n",
    "    예외가 발생하지 않았을 때 실행할 코드"
   ],
   "id": "1bc9d020d658e896"
  },
  {
   "metadata": {
    "ExecuteTime": {
     "end_time": "2025-04-24T01:30:53.512856Z",
     "start_time": "2025-04-24T01:30:51.650258Z"
    }
   },
   "cell_type": "code",
   "source": [
    "try:\n",
    "    x, y = map(int, input(\"밑변과 높이를 입력해주세요\").split(\" \"))\n",
    "except:\n",
    "    print(\"정수로 입력하지 않아 계산이 불가합니다.\")\n",
    "else:\n",
    "    print(f'삼각형의 넓이는 {x*y/2}입니다.')"
   ],
   "id": "52387490d566cbd9",
   "outputs": [
    {
     "name": "stdout",
     "output_type": "stream",
     "text": [
      "삼각형의 넓이는 7.5입니다.\n"
     ]
    }
   ],
   "execution_count": 9
  },
  {
   "metadata": {},
   "cell_type": "markdown",
   "source": [
    "finally 구문\n",
    "* 에외 처리 구문에서 가장 마지막에 사용할 수 있는 구문\n",
    "* 예외가 발생하든 발생하지 않든 무조건 실행할 때 사용하는 코드\n",
    "\n",
    "try:\n",
    "- 예외가 발생할 가능성이 있는 코드\n",
    "\n",
    "except:\n",
    "- 예외가 발생했을 때 실행할 코드\n",
    "\n",
    "else:\n",
    "- 예외가 발생하지 않았을 때 실행할 코드\n",
    "\n",
    "finally:\n",
    "- 무조건 실행할 코드"
   ],
   "id": "650c41b8cf99b12f"
  },
  {
   "metadata": {
    "ExecuteTime": {
     "end_time": "2025-04-24T01:33:04.947319Z",
     "start_time": "2025-04-24T01:33:02.553638Z"
    }
   },
   "cell_type": "code",
   "source": [
    "try:\n",
    "    x, y = map(int, input(\"밑변과 높이를 입력해주세요\").split(\" \"))\n",
    "except:\n",
    "    print(\"정수로 입력하지 않아 계산이 불가합니다.\")\n",
    "else:\n",
    "    print(f'삼각형의 넓이는 {x*y/2}입니다.')\n",
    "finally:\n",
    "    print(\"프로그램이 종료 되었습니다.\")"
   ],
   "id": "df2ceb1b9493dcfa",
   "outputs": [
    {
     "name": "stdout",
     "output_type": "stream",
     "text": [
      "삼각형의 넓이는 7.5입니다.\n",
      "프로그램이 종료 되었습니다.\n"
     ]
    }
   ],
   "execution_count": 10
  },
  {
   "metadata": {},
   "cell_type": "markdown",
   "source": [
    "참가로 return 구문으로 함수를 빠져나와도 finally 구문이 있다면 finally 구문이 실행됩니다.\n",
    "\n",
    "또한, 반복문의 break문을 만나 빠져나와도 finally 구문이 있다면 finally 구문이 실행됩니다.\n",
    "\n",
    "try, except, finally 구문의 조합 규칙\n",
    "* try ~ except\n",
    "* try ~ except ~ else\n",
    "* try ~ except ~ finally\n",
    "* try ~ except ~ else ~ finally\n",
    "* try ~ finally\n",
    "\n",
    "이 외 조합으로 구성할 경우 오류 발생"
   ],
   "id": "b899344b98cf3563"
  },
  {
   "metadata": {},
   "cell_type": "markdown",
   "source": [
    "try ~ except 구문 사용 이유와 방법을 설명해 주세요 :\n",
    "* try 구문에서 예외가 발생할 경우 except에서 코드를 실행합니다\n",
    "\n",
    "finally 구문의 기능과 특징을 설명해주세요 :\n",
    "* finally 구문은 무조건 실행이 되는 코드입니다\n",
    "* 특징으로는 return 구문, break문으로 함수를 빠져나와도 finally의 구문이 실행이 됩니다."
   ],
   "id": "4955de167c68aebb"
  }
 ],
 "metadata": {
  "kernelspec": {
   "display_name": "Python 3",
   "language": "python",
   "name": "python3"
  },
  "language_info": {
   "codemirror_mode": {
    "name": "ipython",
    "version": 2
   },
   "file_extension": ".py",
   "mimetype": "text/x-python",
   "name": "python",
   "nbconvert_exporter": "python",
   "pygments_lexer": "ipython2",
   "version": "2.7.6"
  }
 },
 "nbformat": 4,
 "nbformat_minor": 5
}
