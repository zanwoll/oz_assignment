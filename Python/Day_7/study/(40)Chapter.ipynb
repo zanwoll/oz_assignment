{
 "cells": [
  {
   "metadata": {},
   "cell_type": "markdown",
   "source": [
    "[모듈 만들기]\n",
    "\n",
    "모듈 : 함수의 집합\n",
    "\n",
    "같은 폴더 안에 2개의 파일을 만들겠습니다.\n",
    "* 모듈이 될 파일 : oz_module.py\n",
    "* 모듈을 불러와 실행할 파일 : oz.py"
   ],
   "id": "778348f4bbad7647"
  },
  {
   "cell_type": "code",
   "execution_count": null,
   "id": "initial_id",
   "metadata": {
    "collapsed": true
   },
   "outputs": [],
   "source": [
    "# oz_module.py\n",
    "pi = 3.141592\n",
    "\n",
    "# 반지름 값을 받아오는 함수\n",
    "def number_input():\n",
    "    value = input(\"반지름을 입력해주세요\")\n",
    "    return float(value)\n",
    "\n",
    "# 원의 둘레\n",
    "def get_circum(radius):\n",
    "    return 2 * pi * radius\n",
    "\n",
    "# 원의 넓이\n",
    "def get_circle(radius):\n",
    "    return pi * radius * radius"
   ]
  },
  {
   "metadata": {},
   "cell_type": "code",
   "outputs": [],
   "execution_count": null,
   "source": [
    "# oz.py\n",
    "\n",
    "import oz_module as oz\n",
    "\n",
    "radius = oz.number_input()\n",
    "print(oz.get_circum(radius))\n",
    "print(oz.get_circle(radius))"
   ],
   "id": "753e5f90c64e86e8"
  }
 ],
 "metadata": {
  "kernelspec": {
   "display_name": "Python 3",
   "language": "python",
   "name": "python3"
  },
  "language_info": {
   "codemirror_mode": {
    "name": "ipython",
    "version": 2
   },
   "file_extension": ".py",
   "mimetype": "text/x-python",
   "name": "python",
   "nbconvert_exporter": "python",
   "pygments_lexer": "ipython2",
   "version": "2.7.6"
  }
 },
 "nbformat": 4,
 "nbformat_minor": 5
}
