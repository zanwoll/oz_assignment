{
 "cells": [
  {
   "metadata": {},
   "cell_type": "markdown",
   "source": [
    "[표준 모듈]\n",
    "\n",
    "모듈 : 여러 변수와 함수를 가지고 있는 집합체\n",
    "\n",
    "파이썬에 기본적으로 내장되어 있는 모듈을 \"표쥰 모듈\"이라고 합니다.\n",
    "<hr>\n",
    "모듈 사용 방법\n",
    "\n",
    "import 모듈 이름\n",
    "\n",
    "[math 모듈]\n",
    "* 수학과 관련된 기능을 가지고 있음\n",
    "\n",
    "math 모듈 내 함수\n",
    "* sin(x): 사인 값을 구함\n",
    "* cos(x): 코사인 값을 구함\n",
    "* tan(x): 탄젠트 값을 구함\n",
    "* ceil(x): 올림\n",
    "* floor(x): 내림\n",
    "\n",
    "등등... 이외에도 많은 모듈이 있습니다."
   ],
   "id": "8e5e98519c7888b2"
  },
  {
   "metadata": {
    "ExecuteTime": {
     "end_time": "2025-04-24T02:26:43.922346Z",
     "start_time": "2025-04-24T02:26:43.918488Z"
    }
   },
   "cell_type": "code",
   "source": [
    "import math\n",
    "\n",
    "print(math.sin(5))\n",
    "print(math.cos(5))\n",
    "print(math.ceil(3.6))\n",
    "print(math.floor(4.1))\n"
   ],
   "id": "5775a18927f5c8ae",
   "outputs": [
    {
     "name": "stdout",
     "output_type": "stream",
     "text": [
      "-0.9589242746631385\n",
      "0.28366218546322625\n",
      "4\n",
      "4\n"
     ]
    }
   ],
   "execution_count": 2
  },
  {
   "metadata": {},
   "cell_type": "markdown",
   "source": [
    "[form 구문]\n",
    "\n",
    "모듈안에 수 많은 함수 중 우리가 원하는 함수만을 가져와 사용하면 문법적으로 굉장히 편해집니다.\n",
    "\n",
    "from 모듈 이름 import 가져오고 싶은 변수 또는 함수\n",
    "<hr>\n",
    "from math import sin\n",
    "\n",
    "(기존) math.sin(5)\n",
    "\n",
    "(from 구문 사용 후) sin(5)"
   ],
   "id": "ee4ee2d53dbda3bc"
  },
  {
   "metadata": {
    "ExecuteTime": {
     "end_time": "2025-04-24T02:28:45.480438Z",
     "start_time": "2025-04-24T02:28:45.477053Z"
    }
   },
   "cell_type": "code",
   "source": [
    "from math import sin, cos, ceil, floor\n",
    "\n",
    "print(sin(5))\n",
    "print(cos(5))\n",
    "print(ceil(3.6))\n",
    "print(floor(4.1))\n"
   ],
   "id": "91a7656f441d919e",
   "outputs": [
    {
     "name": "stdout",
     "output_type": "stream",
     "text": [
      "-0.9589242746631385\n",
      "0.28366218546322625\n",
      "4\n",
      "4\n"
     ]
    }
   ],
   "execution_count": 3
  },
  {
   "metadata": {
    "ExecuteTime": {
     "end_time": "2025-04-24T02:29:27.989668Z",
     "start_time": "2025-04-24T02:29:27.985090Z"
    }
   },
   "cell_type": "code",
   "source": [
    "# math 모듈의 모든 함수를 가져오는 방법으로 import에 '*' 사용합니다.\n",
    "\n",
    "from math import *\n",
    "\n",
    "print(sin(5))\n",
    "print(cos(5))\n",
    "print(ceil(3.6))\n",
    "print(floor(4.1))\n",
    "\n"
   ],
   "id": "66315ff62450ac9f",
   "outputs": [
    {
     "name": "stdout",
     "output_type": "stream",
     "text": [
      "-0.9589242746631385\n",
      "0.28366218546322625\n",
      "4\n",
      "4\n"
     ]
    }
   ],
   "execution_count": 4
  },
  {
   "metadata": {},
   "cell_type": "markdown",
   "source": [
    "[as 구문]\n",
    "\n",
    "모듈을 가져오다 보면 이름의 충돌이 발생하는 경우가 있습니다. 또는 너무 길어 짧게 줄여서 사용하고 싶은 경우도 있을겁니다.\n",
    "\n",
    "이럴 때 모듈의 식별자를 만들어 사용할 수 있는 문법이 as 구문입니다."
   ],
   "id": "4468a9ac012cee01"
  },
  {
   "metadata": {
    "ExecuteTime": {
     "end_time": "2025-04-24T02:30:48.740181Z",
     "start_time": "2025-04-24T02:30:48.736535Z"
    }
   },
   "cell_type": "code",
   "source": [
    "import math as m\n",
    "\n",
    "print(m.sin(5))\n",
    "print(m.cos(5))\n",
    "print(m.ceil(3.6))\n",
    "print(m.floor(4.1))\n",
    "\n"
   ],
   "id": "d3b1021a4a7269ad",
   "outputs": [
    {
     "name": "stdout",
     "output_type": "stream",
     "text": [
      "-0.9589242746631385\n",
      "0.28366218546322625\n",
      "4\n",
      "4\n"
     ]
    }
   ],
   "execution_count": 5
  },
  {
   "metadata": {},
   "cell_type": "markdown",
   "source": [
    "[os 모듈]\n",
    "* 운영체제와 관련된 기능을 가진 모듈\n",
    "* os.system 명령어의 경우 사용 시 주의를 요함"
   ],
   "id": "d340011b2e95da39"
  },
  {
   "metadata": {
    "ExecuteTime": {
     "end_time": "2025-04-24T02:36:31.628173Z",
     "start_time": "2025-04-24T02:36:31.609162Z"
    }
   },
   "cell_type": "code",
   "source": [
    "import os\n",
    "\n",
    "print(\"현재 운영체제:\", os.name)\n",
    "print(\"현재 폴더:\", os.getcwd())\n",
    "print(\"현재 폴더 정보:\", os.listdir())\n",
    "\n",
    "# 폴더를 만들고\n",
    "# os.mkdir(\"oz\")\n",
    "\n",
    "# 폴더를 삭제하고\n",
    "# os.rmdir(\"oz\")\n",
    "\n",
    "# 폴더를 만들고 만든 파일안에 내용을 삽입\n",
    "# with open(\"oz.txt\", \"w\") as file:\n",
    "#     file.write(\"수강생 여러분 안녕하세요\")\n",
    "# 파일 이름 변경\n",
    "# os.rename(\"oz.txt\", \"oz.txt\")\n",
    "\n",
    "# 파일 제거\n",
    "# os.remove(\"oz2.txt\")\n",
    "\n",
    "# 윈도우 운영체제 사용시 (\"dir\") , 맥 사용시 (\"ls\")\n",
    "os.system(\"dir\")"
   ],
   "id": "834bbac12be1778f",
   "outputs": [
    {
     "name": "stdout",
     "output_type": "stream",
     "text": [
      "현재 운영체제: nt\n",
      "현재 폴더: C:\\Users\\skd03\\Desktop\\oz_assignment\\Python\\Day_7\\study\n",
      "현재 폴더 정보: ['(33)Chapter.ipynb', '(34)Chapter.ipynb', '(35)Chapter.ipynb', '(36)Chapter.ipynb', '(37)Chapter.ipynb']\n"
     ]
    },
    {
     "data": {
      "text/plain": [
       "0"
      ]
     },
     "execution_count": 9,
     "metadata": {},
     "output_type": "execute_result"
    }
   ],
   "execution_count": 9
  },
  {
   "metadata": {},
   "cell_type": "markdown",
   "source": [
    "[datetime 모듈]\n",
    "* 날짜와 시간 관련된 모듈"
   ],
   "id": "b0c7a55ddb5f2184"
  },
  {
   "metadata": {
    "ExecuteTime": {
     "end_time": "2025-04-24T02:38:47.749658Z",
     "start_time": "2025-04-24T02:38:47.746022Z"
    }
   },
   "cell_type": "code",
   "source": [
    "import datetime\n",
    "\n",
    "print(\"오늘 날짜와 시간 출력\")\n",
    "now = datetime.datetime.now()\n",
    "print(now.year, \"년\")\n",
    "print(now.month, \"월\")\n",
    "print(now.day, \"일\")\n",
    "print(now.hour, \"시\")\n",
    "print(now.minute, \"분\")\n",
    "print(now.second, \"초\")\n"
   ],
   "id": "1ce96a2161a3abad",
   "outputs": [
    {
     "name": "stdout",
     "output_type": "stream",
     "text": [
      "오늘 날짜와 시간 출력\n",
      "2025 년\n",
      "4 월\n",
      "24 일\n",
      "11 시\n",
      "38 분\n",
      "47 초\n"
     ]
    }
   ],
   "execution_count": 10
  },
  {
   "metadata": {
    "ExecuteTime": {
     "end_time": "2025-04-24T05:42:09.664370Z",
     "start_time": "2025-04-24T05:42:09.661361Z"
    }
   },
   "cell_type": "code",
   "source": [
    "import datetime\n",
    "\n",
    "print(\"다양한 시간 포캣\")\n",
    "output_1 = now.strftime(\"%Y.%m.%d %H:%M:%S\")\n",
    "output_2 = f'{now.year}년 {now.month}월 {now.day}일 {now.hour}시 {now.minute}분 {now.second}초'\n",
    "output_3 = now.strftime(\"%Y{} %m{} %d{} %H{} %M{} %S{}\").format(*\"년월일시분초\")\n",
    "\n",
    "print(output_1)\n",
    "print(output_2)\n",
    "print(output_3)\n",
    "print()"
   ],
   "id": "4130861d8cbd1965",
   "outputs": [
    {
     "name": "stdout",
     "output_type": "stream",
     "text": [
      "다양한 시간 포캣\n",
      "2025.04.24 11:38:47\n",
      "2025년 4월 24일 11시 38분 47초\n",
      "2025년 04월 24일 11시 38분 47초\n",
      "\n"
     ]
    }
   ],
   "execution_count": 28
  },
  {
   "metadata": {},
   "cell_type": "markdown",
   "source": [
    "[time 모듈]\n",
    "* 시간과 관련된 기능을 다루는 모듈\n",
    "* 특정 시간동안 코드를 정지할 수 있는 기능이 있음"
   ],
   "id": "2fd3c4f9e78f31ab"
  },
  {
   "metadata": {
    "ExecuteTime": {
     "end_time": "2025-04-24T02:46:13.236793Z",
     "start_time": "2025-04-24T02:46:10.232838Z"
    }
   },
   "cell_type": "code",
   "source": [
    "import time\n",
    "\n",
    "print(\"3초 뒤에 어떤 일이 일어날까요?\")\n",
    "time.sleep(3)\n",
    "print(\"아무일도 없었다\")"
   ],
   "id": "f14e9db041eeaca2",
   "outputs": [
    {
     "name": "stdout",
     "output_type": "stream",
     "text": [
      "3초 뒤에 어떤 일이 일어날까요?\n",
      "아무일도 없었다\n"
     ]
    }
   ],
   "execution_count": 12
  },
  {
   "metadata": {},
   "cell_type": "markdown",
   "source": [
    "[urllib 모듈]\n",
    "* URL을 다루는 라이브러리"
   ],
   "id": "fbe25cfafffa9e74"
  },
  {
   "metadata": {},
   "cell_type": "code",
   "source": [
    "from urllib import request\n",
    "\n",
    "target = request.urlopen(\"https://www.naver.com\")\n",
    "web_code = target.read()\n",
    "\n",
    "print(web_code)"
   ],
   "id": "b87c240d454c0230",
   "outputs": [],
   "execution_count": null
  }
 ],
 "metadata": {
  "kernelspec": {
   "display_name": "Python 3",
   "language": "python",
   "name": "python3"
  },
  "language_info": {
   "codemirror_mode": {
    "name": "ipython",
    "version": 2
   },
   "file_extension": ".py",
   "mimetype": "text/x-python",
   "name": "python",
   "nbconvert_exporter": "python",
   "pygments_lexer": "ipython2",
   "version": "2.7.6"
  }
 },
 "nbformat": 4,
 "nbformat_minor": 5
}
