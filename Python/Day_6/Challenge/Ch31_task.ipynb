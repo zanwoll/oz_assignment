{
 "cells": [
  {
   "cell_type": "markdown",
   "metadata": {},
   "source": [
    "문자열 리스트를 받아, 각 문자열의 길이를 출력하는 함수 print_lengths를 작성하세요."
   ]
  },
  {
   "metadata": {
    "ExecuteTime": {
     "end_time": "2025-04-23T12:32:12.212351Z",
     "start_time": "2025-04-23T12:32:12.209230Z"
    }
   },
   "cell_type": "code",
   "source": [
    "def print_lengths(str):\n",
    "    for str in str:\n",
    "        print(f\"{str}의 길이: {len(str)}\")\n",
    "str_words = [\"안녕하세요\", \"반갑습니다\", \"잘 부탁드려요\"]\n",
    "print_lengths(str_words)"
   ],
   "outputs": [
    {
     "name": "stdout",
     "output_type": "stream",
     "text": [
      "안녕하세요의 길이: 5\n",
      "반갑습니다의 길이: 5\n",
      "잘 부탁드려요의 길이: 7\n"
     ]
    }
   ],
   "execution_count": 10
  }
 ],
 "metadata": {
  "language_info": {
   "name": "python"
  }
 },
 "nbformat": 4,
 "nbformat_minor": 2
}
