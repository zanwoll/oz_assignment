{
 "cells": [
  {
   "cell_type": "markdown",
   "metadata": {},
   "source": [
    "사용자의 이름을 출력하는 함수 print_name을 작성하세요. 만약 이름이 주어지지 않았다면, 기본값으로 \"익명\"을 사용하세요."
   ]
  },
  {
   "metadata": {
    "ExecuteTime": {
     "end_time": "2025-04-23T11:59:00.019697Z",
     "start_time": "2025-04-23T11:59:00.016607Z"
    }
   },
   "cell_type": "code",
   "source": [
    "def print_name(name = \"익명\"):\n",
    "    print(f\"사용자 이름: {name}\")\n",
    "\n",
    "if __name__ == '__main__':\n",
    "    print_name(\"김오즈\")\n"
   ],
   "outputs": [
    {
     "name": "stdout",
     "output_type": "stream",
     "text": [
      "사용자 이름: 김오즈\n"
     ]
    }
   ],
   "execution_count": 6
  }
 ],
 "metadata": {
  "language_info": {
   "name": "python"
  }
 },
 "nbformat": 4,
 "nbformat_minor": 2
}
