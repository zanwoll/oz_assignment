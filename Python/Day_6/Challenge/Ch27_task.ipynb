{
 "cells": [
  {
   "cell_type": "markdown",
   "metadata": {},
   "source": [
    "두 숫자를 더하는 람다 함수를 작성하고, 이를 변수에 할당한 후 사용하세요."
   ]
  },
  {
   "metadata": {
    "ExecuteTime": {
     "end_time": "2025-04-23T12:09:05.441621Z",
     "start_time": "2025-04-23T12:09:05.438409Z"
    }
   },
   "cell_type": "code",
   "source": [
    "oz_lambda = lambda x, y: x + y\n",
    "result = oz_lambda(7, 4) # ()안에 값 변경 가능!\n",
    "\n",
    "print(result)"
   ],
   "outputs": [
    {
     "name": "stdout",
     "output_type": "stream",
     "text": [
      "11\n"
     ]
    }
   ],
   "execution_count": 5
  }
 ],
 "metadata": {
  "language_info": {
   "name": "python"
  }
 },
 "nbformat": 4,
 "nbformat_minor": 2
}
