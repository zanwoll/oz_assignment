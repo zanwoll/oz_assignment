{
 "cells": [
  {
   "cell_type": "markdown",
   "metadata": {},
   "source": [
    "사용자로부터 이름과 나이를 입력 받아, \"안녕하세요, [이름]님! 당신은 [나이]살입니다.\"라고 출력하는 함수 greet_user를 작성하세요."
   ]
  },
  {
   "metadata": {
    "ExecuteTime": {
     "end_time": "2025-04-23T11:52:48.320971Z",
     "start_time": "2025-04-23T11:52:40.843875Z"
    }
   },
   "cell_type": "code",
   "source": [
    "def greet_user():\n",
    "    name = input(\"이름을 입력해주세요!\")\n",
    "    age = input(\"나이를 입력해주세요!\")\n",
    "    print(f'안녕하세요, {name}님! 당신은 {age}살 입니다.')\n",
    "\n",
    "greet_user()"
   ],
   "outputs": [
    {
     "name": "stdout",
     "output_type": "stream",
     "text": [
      "안녕하세요, 오즈님! 당신은 20살 입니다.\n"
     ]
    }
   ],
   "execution_count": 5
  }
 ],
 "metadata": {
  "language_info": {
   "name": "python"
  }
 },
 "nbformat": 4,
 "nbformat_minor": 2
}
