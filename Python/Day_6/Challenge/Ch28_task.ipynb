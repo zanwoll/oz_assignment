{
 "cells": [
  {
   "cell_type": "markdown",
   "metadata": {},
   "source": [
    "사용자로부터 3개의 숫자를 입력받아, 이를 튜플로 만든 후 최소값과 최대값을 출력하는 함수 min_max를 작성하세요."
   ]
  },
  {
   "metadata": {
    "ExecuteTime": {
     "end_time": "2025-04-23T12:14:44.454787Z",
     "start_time": "2025-04-23T12:14:38.357742Z"
    }
   },
   "cell_type": "code",
   "source": [
    "def min_max():\n",
    "    num1 = input(\"첫번째 숫자를 입력해주세요!\")\n",
    "    num2 = input(\"두번째 숫자를 입력해주세요!\")\n",
    "    num3 = input(\"세번째 숫자를 입력해주세요!\")\n",
    "\n",
    "    numbers = [num1, num2, num3]\n",
    "\n",
    "    min_number = min(numbers)\n",
    "    max_number = max(numbers)\n",
    "\n",
    "    print(f\"입력한 숫자들: {numbers}\")\n",
    "    print(f\"최소값: {min_number}\")\n",
    "    print(f\"최대값: {max_number}\")\n",
    "\n",
    "min_max()"
   ],
   "outputs": [
    {
     "name": "stdout",
     "output_type": "stream",
     "text": [
      "입력한 숫자들: ['10', '20', '30']\n",
      "최소값: 10\n",
      "최대값: 30\n"
     ]
    }
   ],
   "execution_count": 2
  }
 ],
 "metadata": {
  "language_info": {
   "name": "python"
  }
 },
 "nbformat": 4,
 "nbformat_minor": 2
}
