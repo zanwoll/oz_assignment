{
 "cells": [
  {
   "cell_type": "markdown",
   "metadata": {},
   "source": [
    "두 문자열을 받아서 긴 문자열을 반환하는 함수 longer_string을 작성하세요. 만약 두 문자열의 길이가 같다면, 첫 번째 문자열을 반환하세요."
   ]
  },
  {
   "metadata": {
    "ExecuteTime": {
     "end_time": "2025-04-23T12:35:38.255247Z",
     "start_time": "2025-04-23T12:35:38.252637Z"
    }
   },
   "cell_type": "code",
   "source": [
    "def longer_string(str1, str2):\n",
    "    if len(str1) > len(str2):\n",
    "        return str2\n",
    "    else:\n",
    "        return str1\n",
    "\n",
    "print(longer_string(\"hello\", \"world\"))"
   ],
   "outputs": [
    {
     "name": "stdout",
     "output_type": "stream",
     "text": [
      "hello\n"
     ]
    }
   ],
   "execution_count": 4
  }
 ],
 "metadata": {
  "language_info": {
   "name": "python"
  }
 },
 "nbformat": 4,
 "nbformat_minor": 2
}
