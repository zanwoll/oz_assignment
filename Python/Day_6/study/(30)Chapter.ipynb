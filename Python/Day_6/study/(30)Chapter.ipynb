{
 "cells": [
  {
   "cell_type": "code",
   "id": "initial_id",
   "metadata": {
    "collapsed": true
   },
   "source": [
    "def oz_call(function):\n",
    "    for i in range(5):\n",
    "        function()\n",
    "\n",
    "def talk():\n",
    "    print(\"파이썬 이건 또 무슨 개념이야?\")\n",
    "\n",
    "oz_call(talk)"
   ],
   "outputs": [],
   "execution_count": null
  },
  {
   "metadata": {
    "ExecuteTime": {
     "end_time": "2025-04-23T05:47:02.573178Z",
     "start_time": "2025-04-23T05:47:02.569637Z"
    }
   },
   "cell_type": "code",
   "source": [
    "# 자기 자신을 곱합 겨로가를 새로운 list를 만들어주는 map() 함수코드\n",
    "def square(i):\n",
    "    return i * i\n",
    "\n",
    "numbers_list = [1,2,3,4,5,6,7,8,9,10]\n",
    "\n",
    "result = map(square, numbers_list)\n",
    "\n",
    "print(\"map 결과:\", result)\n",
    "print(\"map 결과의 list 형변환:\", list(result))"
   ],
   "id": "5d7d47385d1dfa7",
   "outputs": [
    {
     "name": "stdout",
     "output_type": "stream",
     "text": [
      "map 결과: <map object at 0x0000020571A37400>\n",
      "map 결과의 list 형변환: [1, 4, 9, 16, 25, 36, 49, 64, 81, 100]\n"
     ]
    }
   ],
   "execution_count": 8
  },
  {
   "metadata": {
    "ExecuteTime": {
     "end_time": "2025-04-23T05:48:59.211695Z",
     "start_time": "2025-04-23T05:48:59.207716Z"
    }
   },
   "cell_type": "code",
   "source": [
    "# 조건에 맞는 값만을 이용해 새로운 list를 만들어 주는 filter()함수 코드\n",
    "\n",
    "def under(i):\n",
    "    return i < 5\n",
    "\n",
    "numbers_list = [1,2,3,4,5,6,7,8,9,10]\n",
    "\n",
    "result = filter(under, numbers_list)\n",
    "\n",
    "print(\"map 결과:\", result)\n",
    "print(\"map 결과의 list 형변환:\", list(result))\n"
   ],
   "id": "6655ad18fa89d758",
   "outputs": [
    {
     "name": "stdout",
     "output_type": "stream",
     "text": [
      "map 결과: <filter object at 0x0000020571A35B40>\n",
      "map 결과의 list 형변환: [1, 2, 3, 4]\n"
     ]
    }
   ],
   "execution_count": 9
  },
  {
   "metadata": {
    "ExecuteTime": {
     "end_time": "2025-04-23T05:51:30.230633Z",
     "start_time": "2025-04-23T05:51:30.227111Z"
    }
   },
   "cell_type": "code",
   "source": [
    "square = lambda i : i * i\n",
    "\n",
    "numbers_list = [1,2,3,4,5,6,7,8,9,10]\n",
    "\n",
    "result = map(square, numbers_list)\n",
    "\n",
    "print(\"map 결과:\", result)\n",
    "print(\"map 결과의 list 형변환:\", list(result))"
   ],
   "id": "ef6897a927f77171",
   "outputs": [
    {
     "name": "stdout",
     "output_type": "stream",
     "text": [
      "map 결과: <map object at 0x0000020571A37A90>\n",
      "map 결과의 list 형변환: [1, 4, 9, 16, 25, 36, 49, 64, 81, 100]\n"
     ]
    }
   ],
   "execution_count": 10
  },
  {
   "metadata": {
    "ExecuteTime": {
     "end_time": "2025-04-23T05:52:11.422237Z",
     "start_time": "2025-04-23T05:52:11.417919Z"
    }
   },
   "cell_type": "code",
   "source": [
    "under = lambda i : i < 5\n",
    "\n",
    "numbers_list = [1,2,3,4,5,6,7,8,9,10]\n",
    "\n",
    "result = filter(under, numbers_list)\n",
    "\n",
    "print(\"map 결과:\", result)\n",
    "print(\"map 결과의 list 형변환:\", list(result))"
   ],
   "id": "90dd6252fb14ac06",
   "outputs": [
    {
     "name": "stdout",
     "output_type": "stream",
     "text": [
      "map 결과: <filter object at 0x0000020571A37B80>\n",
      "map 결과의 list 형변환: [1, 2, 3, 4]\n"
     ]
    }
   ],
   "execution_count": 11
  },
  {
   "metadata": {
    "ExecuteTime": {
     "end_time": "2025-04-23T05:53:49.689552Z",
     "start_time": "2025-04-23T05:53:49.686102Z"
    }
   },
   "cell_type": "code",
   "source": [
    "numbers_list = [1,2,3,4,5,6,7,8,9,10]\n",
    "\n",
    "result = map(lambda i : i * i, numbers_list)\n",
    "print(\"map 결과 :\", result)\n",
    "print(\"map 결과의 list 형변환 :\", list(result))"
   ],
   "id": "6cc5e6dc755a71f4",
   "outputs": [
    {
     "name": "stdout",
     "output_type": "stream",
     "text": [
      "map 결과 : <map object at 0x0000020571A37A90>\n",
      "map 결과의 list 형변환 : [1, 4, 9, 16, 25, 36, 49, 64, 81, 100]\n"
     ]
    }
   ],
   "execution_count": 12
  },
  {
   "metadata": {
    "ExecuteTime": {
     "end_time": "2025-04-23T05:55:14.203942Z",
     "start_time": "2025-04-23T05:55:14.200455Z"
    }
   },
   "cell_type": "code",
   "source": [
    "numbers_list = [1,2,3,4,5,6,7,8,9,10]\n",
    "\n",
    "result = filter(lambda i : i < 5, numbers_list)\n",
    "\n",
    "print(\"map 결과:\", result)\n",
    "print(\"map 결과의 list 형변환:\", list(result))"
   ],
   "id": "824cd02ac7973a96",
   "outputs": [
    {
     "name": "stdout",
     "output_type": "stream",
     "text": [
      "map 결과: <filter object at 0x0000020571A2B7F0>\n",
      "map 결과의 list 형변환: [1, 2, 3, 4]\n"
     ]
    }
   ],
   "execution_count": 13
  },
  {
   "metadata": {},
   "cell_type": "markdown",
   "source": [
    "map(), filter() 함수의 기능에 대해 설명해 주세요 :\n",
    "* map()\n",
    "1. 주어진 함수를 반복 가능한 객체의 모든 요소에 적용 하고, 그 결과를 map 객체로 반환합니다.\n",
    "* filter()\n",
    "1. 주어진 함수를 반복 가능한 객체의 모든 요소에 적용 하고, 함수가 True를 반환하는 요소만 필터링하여 filter 객체로 반환합니다.\n",
    "\n",
    "lambda를 사용하는 이유에 대해 설명해 주세요 :\n",
    "1. 한 줄로 간단한 함수를 정의할 수 있어 코드가 간결해 집니다.\n",
    "\n",
    "lambda를 이용해 함수를 만드는 방법에 대해서 설명해 주세요 :\n",
    "numbers = [1, 2, 3, 4, 5]\n",
    "squared = map(lambda i : i < 3, numbers)\n"
   ],
   "id": "d1d66d78eaedca36"
  }
 ],
 "metadata": {
  "kernelspec": {
   "display_name": "Python 3",
   "language": "python",
   "name": "python3"
  },
  "language_info": {
   "codemirror_mode": {
    "name": "ipython",
    "version": 2
   },
   "file_extension": ".py",
   "mimetype": "text/x-python",
   "name": "python",
   "nbconvert_exporter": "python",
   "pygments_lexer": "ipython2",
   "version": "2.7.6"
  }
 },
 "nbformat": 4,
 "nbformat_minor": 5
}
