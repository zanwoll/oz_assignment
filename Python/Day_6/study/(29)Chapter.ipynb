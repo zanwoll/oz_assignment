{
 "cells": [
  {
   "cell_type": "code",
   "id": "initial_id",
   "metadata": {
    "collapsed": true
   },
   "source": [
    "oz_tuple = (1, 2, 3)\n",
    "\n",
    "print(oz_tuple)\n",
    "print(oz_tuple[0])\n",
    "print(oz_tuple[1])\n",
    "print(oz_tuple[2])"
   ],
   "outputs": [],
   "execution_count": null
  },
  {
   "metadata": {},
   "cell_type": "code",
   "source": [
    "# 튜플에 데이터를 변경은 불가하므로 아래 코드 실행 시 오류가 발생합니다.\n",
    "oz_tuple = [2] = 5\n"
   ],
   "id": "5d8600b9a1ad872b",
   "outputs": [],
   "execution_count": null
  },
  {
   "metadata": {
    "ExecuteTime": {
     "end_time": "2025-04-23T05:29:13.876Z",
     "start_time": "2025-04-23T05:29:13.872629Z"
    }
   },
   "cell_type": "code",
   "source": [
    "oz_tuple = 1, 2, 3, 4\n",
    "\n",
    "print(\"oz_tuple: \", oz_tuple)\n",
    "print(\"oz_tuple type: \", type(oz_tuple))"
   ],
   "id": "1a4fd866e2ee1e1b",
   "outputs": [
    {
     "name": "stdout",
     "output_type": "stream",
     "text": [
      "oz_tuple:  (1, 2, 3, 4)\n",
      "oz_tuple type:  <class 'tuple'>\n"
     ]
    }
   ],
   "execution_count": 3
  },
  {
   "metadata": {
    "ExecuteTime": {
     "end_time": "2025-04-23T05:29:45.342358Z",
     "start_time": "2025-04-23T05:29:45.338623Z"
    }
   },
   "cell_type": "code",
   "source": [
    "x, y, z = 1, 2, 3\n",
    "print(x)\n",
    "print(y)\n",
    "print(z)"
   ],
   "id": "242acc454041e007",
   "outputs": [
    {
     "name": "stdout",
     "output_type": "stream",
     "text": [
      "1\n",
      "2\n",
      "3\n"
     ]
    }
   ],
   "execution_count": 4
  },
  {
   "metadata": {
    "ExecuteTime": {
     "end_time": "2025-04-23T05:31:29.960276Z",
     "start_time": "2025-04-23T05:31:29.956702Z"
    }
   },
   "cell_type": "code",
   "source": [
    "x, y = 1, 2\n",
    "\n",
    "print(\"x: \", x)\n",
    "print(\"x: \", y)\n",
    "print()\n",
    "\n",
    "x, y = y, x\n",
    "print(\"x: \", x)\n",
    "print(\"y: \", y)\n"
   ],
   "id": "5ad1fea62328e3a8",
   "outputs": [
    {
     "name": "stdout",
     "output_type": "stream",
     "text": [
      "x:  1\n",
      "x:  2\n",
      "\n",
      "x:  2\n",
      "y:  1\n"
     ]
    }
   ],
   "execution_count": 6
  },
  {
   "metadata": {
    "ExecuteTime": {
     "end_time": "2025-04-23T05:33:38.198167Z",
     "start_time": "2025-04-23T05:33:38.195262Z"
    }
   },
   "cell_type": "code",
   "source": [
    "def oz_tuple():\n",
    "    return (1, 2)\n",
    "\n",
    "x, y = oz_tuple()\n",
    "print(\"x: \", x)\n",
    "print(\"y: \", y)"
   ],
   "id": "9ec44ddb45a72b1a",
   "outputs": [
    {
     "name": "stdout",
     "output_type": "stream",
     "text": [
      "x:  1\n",
      "y:  2\n"
     ]
    }
   ],
   "execution_count": 8
  },
  {
   "metadata": {
    "ExecuteTime": {
     "end_time": "2025-04-23T05:34:24.550339Z",
     "start_time": "2025-04-23T05:34:24.547200Z"
    }
   },
   "cell_type": "code",
   "source": [
    "# 튜플을 이요한 내부함수들\n",
    "# enumerate()의 i, fruit는 (i, fruit)이나 괄호를 생략한 상태\n",
    "\n",
    "for i, fruit in enumerate([1,2,3,4]):\n",
    "    print(i, fruit)"
   ],
   "id": "ba55a46518833626",
   "outputs": [
    {
     "name": "stdout",
     "output_type": "stream",
     "text": [
      "0 1\n",
      "1 2\n",
      "2 3\n",
      "3 4\n"
     ]
    }
   ],
   "execution_count": 9
  },
  {
   "metadata": {
    "ExecuteTime": {
     "end_time": "2025-04-23T05:35:42.219595Z",
     "start_time": "2025-04-23T05:35:42.215349Z"
    }
   },
   "cell_type": "code",
   "source": [
    "# divmode() 사용 시 튜플 형태로 몫과 나머지를 변환\n",
    "a, b = 7, 3\n",
    "x, y = divmod(a, b)\n",
    "print(\"몫:\", x)\n",
    "print(\"나머지:\", y)"
   ],
   "id": "e9708b8e84ef1852",
   "outputs": [
    {
     "name": "stdout",
     "output_type": "stream",
     "text": [
      "몫: 2\n",
      "나머지: 1\n"
     ]
    }
   ],
   "execution_count": 10
  },
  {
   "metadata": {},
   "cell_type": "markdown",
   "source": [
    "튜플의 특징에 대해 설명해주세요 :\n",
    "1. 튜플은 소괄호()를 사용합니다.\n",
    "2. 다양한 데이터의 타입을 저장할 수 있습니다. (정수, 문자열, 리스트 등..)\n",
    "\n",
    "괄호없이 여러개의 값을 할당하는 코드 작성법에 대해 설명해주세요 :\n",
    "(기본 다중 할당)\n",
    "a, b, c = 1, 2, 3\n",
    "print(a)\n",
    "print(b)\n",
    "print(c)\n",
    "\n",
    "(값 교환하기)\n",
    "x, y = 10, 20\n",
    "x, y = y, x\n",
    "print(x)\n",
    "print(y)"
   ],
   "id": "885fa452fb44afa4"
  }
 ],
 "metadata": {
  "kernelspec": {
   "display_name": "Python 3",
   "language": "python",
   "name": "python3"
  },
  "language_info": {
   "codemirror_mode": {
    "name": "ipython",
    "version": 2
   },
   "file_extension": ".py",
   "mimetype": "text/x-python",
   "name": "python",
   "nbconvert_exporter": "python",
   "pygments_lexer": "ipython2",
   "version": "2.7.6"
  }
 },
 "nbformat": 4,
 "nbformat_minor": 5
}
