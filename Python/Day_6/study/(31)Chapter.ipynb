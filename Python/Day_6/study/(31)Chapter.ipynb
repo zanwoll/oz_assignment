{
 "cells": [
  {
   "metadata": {
    "ExecuteTime": {
     "end_time": "2025-04-23T07:16:14.099727Z",
     "start_time": "2025-04-23T07:16:14.095001Z"
    }
   },
   "cell_type": "code",
   "source": [
    "# 제너레이터는 함수안에 yield 키워드를 사용해 만들 수 있습니다.\n",
    "\n",
    "def test():\n",
    "    print(\"제너레이터 실습 코드입니다.\")\n",
    "    yield \"test\"\n",
    "\n",
    "print(\"첫번째 출력\")\n",
    "test()\n",
    "print(\"두번째 출력\")\n",
    "test()\n",
    "\n",
    "print(test())\n"
   ],
   "id": "6b76032552755bea",
   "outputs": [
    {
     "name": "stdout",
     "output_type": "stream",
     "text": [
      "첫번째 출력\n",
      "두번째 출력\n",
      "<generator object test at 0x00000270953FB700>\n"
     ]
    }
   ],
   "execution_count": 1
  },
  {
   "metadata": {
    "ExecuteTime": {
     "end_time": "2025-04-23T07:19:36.748043Z",
     "start_time": "2025-04-23T07:19:36.729885Z"
    }
   },
   "cell_type": "code",
   "source": [
    "def test():\n",
    "    print(\"첫번째 출력\")\n",
    "    yield 1\n",
    "    print(\"두번째 출력\")\n",
    "    yield 2\n",
    "    print(\"세번째 출력\")\n",
    "\n",
    "output = test()\n",
    "print(\"네번째 출력\")\n",
    "\n",
    "x = next(output)\n",
    "print(x)\n",
    "print(\"다섯번째 출력\")\n",
    "y = next(output)\n",
    "print(y)\n",
    "print(\"여섯번째 출력\")\n",
    "z = next(output)\n",
    "print(z)"
   ],
   "id": "f7e4937752ebb199",
   "outputs": [
    {
     "name": "stdout",
     "output_type": "stream",
     "text": [
      "네번째 출력\n",
      "첫번째 출력\n",
      "1\n",
      "다섯번째 출력\n",
      "두번째 출력\n",
      "2\n",
      "여섯번째 출력\n",
      "세번째 출력\n"
     ]
    },
    {
     "ename": "StopIteration",
     "evalue": "",
     "output_type": "error",
     "traceback": [
      "\u001B[31m---------------------------------------------------------------------------\u001B[39m",
      "\u001B[31mStopIteration\u001B[39m                             Traceback (most recent call last)",
      "\u001B[36mCell\u001B[39m\u001B[36m \u001B[39m\u001B[32mIn[6]\u001B[39m\u001B[32m, line 17\u001B[39m\n\u001B[32m     15\u001B[39m \u001B[38;5;28mprint\u001B[39m(y)\n\u001B[32m     16\u001B[39m \u001B[38;5;28mprint\u001B[39m(\u001B[33m\"\u001B[39m\u001B[33m여섯번째 출력\u001B[39m\u001B[33m\"\u001B[39m)\n\u001B[32m---> \u001B[39m\u001B[32m17\u001B[39m z = \u001B[38;5;28;43mnext\u001B[39;49m\u001B[43m(\u001B[49m\u001B[43moutput\u001B[49m\u001B[43m)\u001B[49m\n\u001B[32m     18\u001B[39m \u001B[38;5;28mprint\u001B[39m(z)\n",
      "\u001B[31mStopIteration\u001B[39m: "
     ]
    }
   ],
   "execution_count": 6
  },
  {
   "metadata": {},
   "cell_type": "markdown",
   "source": [
    "위 실행 결과를 보면 next() 함수를 만나면 yield 키워드를 만날 때 까지 실행 됩니다.\n",
    "첫 번째 yield 1 을 만나기 전까지 첫번째 출력이라는 print문이 작동하고 yield의 값 1이 리턴 됩니다.\n",
    "\n",
    "이후 세번째 next(output)이 실행되는데 test() 함수안에 yield가 2개 밖에 없기 때문에 세번째 실행 시 Stoplteration이라는 예외가 발생합니다.\n",
    "\n",
    "제일 궁금한점은 제너레이터는 언제 사용하는가 입니다.\n",
    "위 사용방법 처럼 조금 실행해야되는 상황에서 자주 사용됩니다.\n",
    "\n",
    "조금씩 실행시키게 되면 함수 전체를 실행하지 않아도 되기 때문에 메모리를 효율적으로 사용할 수 있게 됩니다."
   ],
   "id": "15bdbe262376ff44"
  },
  {
   "metadata": {},
   "cell_type": "markdown",
   "source": [
    "이터레이터와 제너레이터에 대해 설명해 주세요 :\n",
    "* 이터레이터\n",
    "1. 데이터 컬렉션을 순회할 수 있게 해주는 객체 입니다.\n",
    "2. __iter__() 와 __next__() 메서드를 구현하는 객체\n",
    "3. 한번에 하나의 요소만 처리함으로 메모리에 효율적 입니다.\n",
    "* 제너레이터\n",
    "1. 이터레이터를 생성하는 특별한 함수입니다.\n",
    "2. yield 키워드를 사용하여 값을 하나씩 변환\n",
    "3. 필요할 때만(lazy evaluation) 값을 생성하므로 메모리에 효율적입니다.\n",
    "\n",
    "제너레이터 함수를 만드는 방법에 대해 설명해 주세요 :\n",
    "def test():\n",
    "    print(\"제너레이터 실습 코드입니다.\")\n",
    "    yield \"test\"\n",
    "\n",
    "제너레이터 함수를 실행하는 방법에 대해 설명해 주세요 :\n",
    "def test():\n",
    "    print(\"제너레이터 실습 코드입니다.\")\n",
    "    yield \"test\"\n",
    "\n",
    "print(\"첫번째 출력\")\n",
    "test()\n",
    "print(\"두번째 출력\")\n",
    "test()\n",
    "\n",
    "print(test())\n"
   ],
   "id": "cfb62291c4e81b98"
  }
 ],
 "metadata": {
  "kernelspec": {
   "display_name": "Python 3",
   "language": "python",
   "name": "python3"
  },
  "language_info": {
   "codemirror_mode": {
    "name": "ipython",
    "version": 2
   },
   "file_extension": ".py",
   "mimetype": "text/x-python",
   "name": "python",
   "nbconvert_exporter": "python",
   "pygments_lexer": "ipython2",
   "version": "2.7.6"
  }
 },
 "nbformat": 4,
 "nbformat_minor": 5
}
