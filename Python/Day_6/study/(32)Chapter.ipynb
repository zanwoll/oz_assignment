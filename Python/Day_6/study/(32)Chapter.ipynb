{
 "cells": [
  {
   "cell_type": "code",
   "execution_count": null,
   "id": "initial_id",
   "metadata": {
    "collapsed": true
   },
   "outputs": [],
   "source": "# 타입 어노테이션과 힌트"
  },
  {
   "metadata": {
    "ExecuteTime": {
     "end_time": "2025-04-23T11:31:41.022682Z",
     "start_time": "2025-04-23T11:31:41.019576Z"
    }
   },
   "cell_type": "code",
   "source": [
    "num = 10\n",
    "print(type(num))\n",
    "\n",
    "num = \"10\"\n",
    "print(type(num))"
   ],
   "id": "298dc26e06a48e27",
   "outputs": [
    {
     "name": "stdout",
     "output_type": "stream",
     "text": [
      "<class 'int'>\n",
      "<class 'str'>\n"
     ]
    }
   ],
   "execution_count": 4
  },
  {
   "metadata": {
    "ExecuteTime": {
     "end_time": "2025-04-23T11:33:58.817661Z",
     "start_time": "2025-04-23T11:33:58.811835Z"
    }
   },
   "cell_type": "code",
   "source": [
    "# 직육면체의 부피를 구하는 함수\n",
    "\n",
    "def oz(x, y, h):\n",
    "    # type:(int, int, int) -> int\n",
    "    return x * y * h\n",
    "\n",
    "oz(10, 10, 10)"
   ],
   "id": "bf12d443648a7a1f",
   "outputs": [
    {
     "data": {
      "text/plain": [
       "1000"
      ]
     },
     "execution_count": 5,
     "metadata": {},
     "output_type": "execute_result"
    }
   ],
   "execution_count": 5
  },
  {
   "metadata": {
    "ExecuteTime": {
     "end_time": "2025-04-23T11:35:22.261742Z",
     "start_time": "2025-04-23T11:35:22.257622Z"
    }
   },
   "cell_type": "code",
   "source": [
    "def oz(x: int, y: int, h: int) -> int:\n",
    "    return x * y * h\n",
    "\n",
    "oz(10, 10, 10)"
   ],
   "id": "ae0b4dead2957e9d",
   "outputs": [
    {
     "data": {
      "text/plain": [
       "1000"
      ]
     },
     "execution_count": 7,
     "metadata": {},
     "output_type": "execute_result"
    }
   ],
   "execution_count": 7
  },
  {
   "metadata": {
    "ExecuteTime": {
     "end_time": "2025-04-23T11:39:05.555758Z",
     "start_time": "2025-04-23T11:39:05.552335Z"
    }
   },
   "cell_type": "code",
   "source": [
    "# 3.9버전과 3.9미만 버전의 타입 어노테이션 표현 방식이 차이가 있습니다.\n",
    "# 현재 코드는 3.9이상 버전의 방식으로 작성되었습니다.\n",
    "# 변수 타입 어노테이션 사용법\n",
    "\n",
    "my_dog : str = \"hunt\"\n",
    "my_dog_age : int = 7\n",
    "\n",
    "dogs: list[str] = [\"닥스훈트\", \"시바견\", \"웰시코기\", \"이탈리안그레이하운드\"]\n",
    "\n",
    "dogs: dict[str, int] = {\n",
    "    \"닥스훈트\" : 7,\n",
    "    \"시바견\": 5,\n",
    "    \"웰시코기\": 4,\n",
    "    \"이탈리안그레이하운드\": 3\n",
    "}\n",
    "\n",
    "print(my_dog)"
   ],
   "id": "6fe731bc4059b67a",
   "outputs": [
    {
     "name": "stdout",
     "output_type": "stream",
     "text": [
      "hunt\n"
     ]
    }
   ],
   "execution_count": 11
  },
  {
   "metadata": {},
   "cell_type": "markdown",
   "source": [
    "< 함수 타입 어노테이션 >\n",
    "\n",
    "함수에 타입 헌팅을 적용할 때는 인자 타입과 반환 타입 두곳에 추가할 수 있습니다.\n",
    "\n",
    "인자에 타입 어노테이션을 추가할 때는 변수와 동일한 문법을 사용하며, 반환값에 대한 타입을 추가할 때는 화살표(->)를 사용합니다."
   ],
   "id": "9b336ef5b3719032"
  },
  {
   "metadata": {
    "ExecuteTime": {
     "end_time": "2025-04-23T11:43:07.230401Z",
     "start_time": "2025-04-23T11:43:07.226978Z"
    }
   },
   "cell_type": "code",
   "source": [
    "def hunt(name: str) -> str:\n",
    "    return name[0]\n",
    "\n",
    "def hunt_info(name: str, age: int = 7) -> str:\n",
    "    return name + str(age)\n",
    "\n",
    "def hunt_happy_time(name: str) -> None:\n",
    "    print(\"간식줄께\" + name)\n",
    "\n",
    "def hunt_bow(message: str, times: int = 10) -> list[str]:\n",
    "    return [message] * times"
   ],
   "id": "a8c2cb84fdfae3c",
   "outputs": [],
   "execution_count": 12
  }
 ],
 "metadata": {
  "kernelspec": {
   "display_name": "Python 3",
   "language": "python",
   "name": "python3"
  },
  "language_info": {
   "codemirror_mode": {
    "name": "ipython",
    "version": 2
   },
   "file_extension": ".py",
   "mimetype": "text/x-python",
   "name": "python",
   "nbconvert_exporter": "python",
   "pygments_lexer": "ipython2",
   "version": "2.7.6"
  }
 },
 "nbformat": 4,
 "nbformat_minor": 5
}
