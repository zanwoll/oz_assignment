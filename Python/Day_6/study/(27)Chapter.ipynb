{
 "cells": [
  {
   "cell_type": "code",
   "execution_count": null,
   "id": "initial_id",
   "metadata": {
    "collapsed": true
   },
   "outputs": [],
   "source": [
    "# 재귀함수 : 함수 안에 자신의 함수를 다시 호출하는 함수\n",
    "# ex) 팩토리얼 => 5! = 5 * 4 * 3 * 2 * 1\n",
    "# n! = n * (n-1) * (n-2) * .... * 1"
   ]
  },
  {
   "metadata": {
    "ExecuteTime": {
     "end_time": "2025-04-23T04:27:08.424957Z",
     "start_time": "2025-04-23T04:27:05.421439Z"
    }
   },
   "cell_type": "code",
   "source": [
    "# 반복문을 이용한 팩토리얼 구현 코드\n",
    "# 곱하기 연산이 진행되기 때문에 output의 초기값은 1입니다. 더하기 연산이 진행되는 경우는 0으로 초기값을 설정합니다\n",
    "\n",
    "def oz_factorial(n):\n",
    "    output = 1\n",
    "    for i in range(1, n+1):\n",
    "        output *= i\n",
    "    return output\n",
    "\n",
    "n = int(input(\"구하고자하는 팩토리얼의 수를 입력해주세요\"))\n",
    "print(f'{n}의 결과는 {oz_factorial(n)}입니다.')"
   ],
   "id": "cb529dd18b14806c",
   "outputs": [
    {
     "name": "stdout",
     "output_type": "stream",
     "text": [
      "5의 결과는 120입니다.\n"
     ]
    }
   ],
   "execution_count": 3
  },
  {
   "metadata": {
    "ExecuteTime": {
     "end_time": "2025-04-23T04:29:57.999439Z",
     "start_time": "2025-04-23T04:29:56.135904Z"
    }
   },
   "cell_type": "code",
   "source": [
    "# 재귀함수를 이용한 팩토리얼 구현 코드\n",
    "def oz_factorial(n):\n",
    "    if n == 0:\n",
    "        return 1\n",
    "    else:\n",
    "        return n * oz_factorial(n-1)\n",
    "\n",
    "n = int(input(\"구하고자하는 팩토리얼의 수를 입력해주세요\"))\n",
    "print(f'{n}의 결과는 {oz_factorial(n)}입니다.')"
   ],
   "id": "8c1f47317a883254",
   "outputs": [
    {
     "name": "stdout",
     "output_type": "stream",
     "text": [
      "5의 결과는 120입니다.\n"
     ]
    }
   ],
   "execution_count": 4
  },
  {
   "metadata": {},
   "cell_type": "markdown",
   "source": [
    "재귀함수는 for문이나 while문 대신 사용되기 때문에 코드가 간결해지고 불필요한 변수를 만들지 않아도 되는 장점이 있습니다.\n",
    "\n",
    "재귀함수의 단점\n",
    "1. Stack overflow가 발생할 수 있습니다. => (꼬리 재귀로 문제해결 가능)\n",
    "2. 지속적인 함수 호출로 인해 함수 안에 변수를 계속해서 선언하게 되고 이로인해 과도한 메모리 사용과 속도 저하가 발생할 수 있습니다."
   ],
   "id": "24bf763fe99a592f"
  },
  {
   "metadata": {},
   "cell_type": "code",
   "source": [
    "# 파보나치 수열 함수 실행 시 계산되는 횟수를 파악하기 위한\n",
    "# 파이썬은 함수 내부에서 함수 밖에 있는 변수를 사용할 수 없습니다.\n",
    "# 그래서 global 키워드 함수를 이용해 함수 내부에서 함수 밖에 있는 변수를 사용할 수 있도록 만들어 줍니다.\n",
    "\n",
    "count = 0\n",
    "\n",
    "def oz_fibo(n):\n",
    "    print(f'피보나치 수열 {n}을 구하는 중입니다.')\n",
    "    global count\n",
    "    count += 1\n",
    "\n",
    "    if n == 1:\n",
    "        return 1\n",
    "    if n == 2:\n",
    "        return 2\n",
    "    else:\n",
    "        return oz_fibo(n-1) + oz_fibo(n-2)\n",
    "\n",
    "n = int(input(\"구하고자하는 피보나치의 수열의 수를 입력해주세요\"))\n",
    "oz_fibo(n)\n",
    "print(f'피보나치의 수열 {n}을 구하기 위해 계산된 횟수는 {count}입니다.')"
   ],
   "id": "19163b4c2af8c463",
   "outputs": [],
   "execution_count": null
  },
  {
   "metadata": {},
   "cell_type": "markdown",
   "source": [
    "메모리제이션:\n",
    "* 컴퓨터 프로그램이 동일한 계산을 반복적으로 해야 할 때, 이전에 계산한 값을 메모리에 저장하여 중복적인 계산을 반복적으로 해야할 때, 이전에 계산한 값을 메모리에 저장하여 중복적인 계산을 제거하여 전체적인 실행 속도를 빠르게 해주는 기법으로 동적 계획법(DP)의 핵심이 되는 기술입니다.\n",
    "\n",
    "코드 핵심 설명\n",
    "* 초기 값으로 설정했던 첫번째와 두번째 결과값을 memo 변수에 dict형 자료형을 넣어 저장합니다.\n",
    "* oz_fibo() 함수 실행 시 memo 변수에 계산할 피보나치 수열의 결과 값이 있는지를 확인합니다. 있다면 계산을 하지 않고 이미 계산되어 저장된 결과 값을 이용합니다.\n",
    "* 만일 결과 값이 저장되어 있지 않은 경우 계산을 합니다. 그리고 계산된 결과 값은 다음 계산에서 활용할 수 있도록 memo에 저장합니다.\n",
    "\n",
    "< 아래 코드 확인 >"
   ],
   "id": "8d384b111e53a350"
  },
  {
   "metadata": {},
   "cell_type": "code",
   "source": [
    "memo = {\n",
    "    1: 1,\n",
    "    2: 2,\n",
    "}\n",
    "\n",
    "count = 0\n",
    "\n",
    "def oz_fibo(n):\n",
    "    print(f'피보나치 수열 {n}을 구하는 중입니다.')\n",
    "    global count\n",
    "    count += 1\n",
    "\n",
    "    if n in memo:\n",
    "        return memo[n]\n",
    "    else:\n",
    "        output = oz_fibo(n-1) + oz_fibo(n-2)\n",
    "        memo[n] = output\n",
    "        return output\n",
    "\n",
    "n = int(input(\"구하고자하는 피보나치의 수열의 수를 입력해주세요\"))\n",
    "oz_fibo(n)\n",
    "print(f'피보나치의 수열 {n}을 구하기 위해 계산된 횟수는 {count}입니다.')"
   ],
   "id": "f355c8cab111e26a",
   "outputs": [],
   "execution_count": null
  },
  {
   "metadata": {},
   "cell_type": "markdown",
   "source": [
    "재귀함수에 대한 설명과 장단점을 알려주세요 :\n",
    "* 장점\n",
    "1. 복잡한 문제를 간결하고 이해하기 쉬운 코드로 표현할 수 있다.\n",
    "2. 비슷한 하위 문제들을 동일한 함수로 해결할 수 있어 코드 중복을 줄일 수 있다.\n",
    "\n",
    "* 단점\n",
    "1. 함수 호출마다 스택 메모리가 쌓이므로 스택 오버플로우를 일으킬 수 있다.\n",
    "2. 동일한 작업을 수행하는 반복문보다 느릴 수 있다.\n",
    "\n",
    "재귀함수 사용 시 발생할 수 있는 단점과 해결 방법에 대해 알려주세요 :\n",
    "* 단점 / 해결방안\n",
    "1. 스택 오버플로우 / 꼬리재귀를 통해 해결 가능, 반복문으로 변환하여 해결 가능\n",
    "2. 중복 계산 / 메모리제이션을 통해 해결 가능\n",
    "\n",
    "메모리제이션에 대해 설명해 주세요 :\n",
    "* 이전에 계산한 값을 저장하여 중복적인 계산을 제거하고 전체적인 실행속도를 빠르게해주는 기법"
   ],
   "id": "bbeef18cc50b527"
  }
 ],
 "metadata": {
  "kernelspec": {
   "display_name": "Python 3",
   "language": "python",
   "name": "python3"
  },
  "language_info": {
   "codemirror_mode": {
    "name": "ipython",
    "version": 2
   },
   "file_extension": ".py",
   "mimetype": "text/x-python",
   "name": "python",
   "nbconvert_exporter": "python",
   "pygments_lexer": "ipython2",
   "version": "2.7.6"
  }
 },
 "nbformat": 4,
 "nbformat_minor": 5
}
