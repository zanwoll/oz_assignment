{
 "cells": [
  {
   "cell_type": "markdown",
   "metadata": {},
   "source": [
    "[문제]\n",
    "\n",
    "'Rectangle' 클래스를 작성하세요. \n",
    "\n",
    "이 클래스는 높이(height)와 너비(width)를 속성으로 가지며, 생성자(__init__)를 통해 이 두 속성을 초기화합니다. \n",
    "\n",
    "'area' 메소드를 추가하여 사각형의 면적을 계산하고 반환하도록 하세요. 높이가 10, 너비가 5인 사각형 객체를 생성하고,<br> \n",
    "이 객체를 사용하여 면적을 계산해 출력하세요."
   ]
  },
  {
   "metadata": {
    "ExecuteTime": {
     "end_time": "2025-04-28T05:38:53.144639Z",
     "start_time": "2025-04-28T05:38:53.139135Z"
    }
   },
   "cell_type": "code",
   "source": [
    "class Rectangle:\n",
    "    def __init__(self, height, width):\n",
    "        self.height = height\n",
    "        self.width = width\n",
    "\n",
    "    def area(self):\n",
    "        return self.height * self.width\n",
    "\n",
    "rectangle = Rectangle(10, 5)\n",
    "print(rectangle.area())"
   ],
   "outputs": [
    {
     "name": "stdout",
     "output_type": "stream",
     "text": [
      "50\n"
     ]
    }
   ],
   "execution_count": 1
  }
 ],
 "metadata": {
  "language_info": {
   "name": "python"
  }
 },
 "nbformat": 4,
 "nbformat_minor": 2
}
