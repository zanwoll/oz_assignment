{
 "cells": [
  {
   "metadata": {},
   "cell_type": "markdown",
   "source": [
    "* 객체 지향 프로그래밍 : 클래스 기반의 객체를 우선으로 생각하는 프로그래밍 <br>\n",
    "    (객체지향 프로그래밍 언어 : Java, Python, PHP 등)"
   ],
   "id": "8b6e677de20576e9"
  },
  {
   "metadata": {},
   "cell_type": "markdown",
   "source": [
    "[객체]\n",
    "\n",
    "객체 : 구현하고자 하는 대상의 속성과 기능을 가지는 프로그램 단위\n",
    "\n",
    "예) 사람을 객체로 만들어보자\n",
    "* 속성 (눈, 코, 입, 키, 몸무게, 성격 등)\n",
    "* 기능 (다리를 이용해 걷기, 물건을 잡을 때는 손가락을 이용하기 등)\n",
    "\n",
    "객체를 만들기 위해서는 속성과 기능이 필요함\n",
    "\n",
    "하지만, 현실 세계에 있는 물건이든, 개념 또는 사상 등 많은 것들을 프로그램으로 표현하기에는<br>\n",
    "대상들이 가지고 있는 구성 요소 또는 특징 그리고 기능들이 많음<br>\n",
    "=> 객체를 구성하는 있는 속성이 많은 경우 필요한 속성만을 이용해 객체를 표현하는 개념을 추상화라고 함\n",
    "\n",
    "-----\n",
    "\n",
    "우리가 개발 공부를 하는 사람 즉, 수강생을 객체로 만들기 위해서 필요한 속성과 기능은 무엇일까요?\n",
    "- 이름\n",
    "- Python 활용 능력 (1~5 점수가 높을 수록 실력이 좋음)\n",
    "- Database 활용 능력 (1~5 점수가 높을 수록 실력이 좋음)\n",
    "- Django 활용 능력 (1~5 점수가 높을 수록 실력이 좋음)\n",
    "- AWS 활용 능력 (1~5 점수가 높을 수록 실력이 좋음)\n",
    "\n",
    "그리고 생각할 수 있는 기능은 이렇게 있습니다.\n",
    "- 수강 과목별 활용 능력 평균 구하기\n",
    "- 수강 과목별 황용 능력 총점 구하기"
   ],
   "id": "ea7c7dd0317bc834"
  },
  {
   "metadata": {
    "ExecuteTime": {
     "end_time": "2025-04-27T05:20:13.812193Z",
     "start_time": "2025-04-27T05:20:13.806931Z"
    }
   },
   "cell_type": "code",
   "source": [
    "oz_students = [\n",
    "    {\"name\": \"백현우\", \"python\": 4, \"database\": 3, \"Django\": 3, \"AWS\": 2},\n",
    "    {\"name\": \"홍혜인\", \"python\": 4, \"database\": 5, \"Django\": 2, \"AWS\": 4},\n",
    "    {\"name\": \"윤은성\", \"python\": 3, \"database\": 4, \"Django\": 4, \"AWS\": 1},\n",
    "    {\"name\": \"홍수철\", \"python\": 2, \"database\": 3, \"Django\": 1, \"AWS\": 5},\n",
    "]\n",
    "\n",
    "print(\"이름\", \"총점\", \"평균\", sep=\"\\t\")\n",
    "\n",
    "for students in oz_students:\n",
    "    ability_sum = students[\"python\"] + students[\"database\"] + students[\"Django\"] + students[\"AWS\"]\n",
    "    ability_average = ability_sum / 4\n",
    "\n",
    "    print(students[\"name\"], ability_sum, ability_average, sep=\"\\t\")"
   ],
   "id": "cc595e14e2c476a2",
   "outputs": [
    {
     "name": "stdout",
     "output_type": "stream",
     "text": [
      "이름\t총점\t평균\n",
      "백현우\t12\t3.0\n",
      "홍혜인\t15\t3.75\n",
      "윤은성\t12\t3.0\n",
      "홍수철\t11\t2.75\n"
     ]
    }
   ],
   "execution_count": 1
  },
  {
   "metadata": {},
   "cell_type": "markdown",
   "source": [
    "- 여러가지 속성 (이름, 수강한 과목 등에 대한 정보)를 가지고 있는 대상을 객체라고 함\n",
    "- 프로그래밍 언어에서 좀 더 넓은 의미로 속성을 가질 수 있는 모든 것을 객체라고 함"
   ],
   "id": "77def853b585612a"
  },
  {
   "metadata": {
    "ExecuteTime": {
     "end_time": "2025-04-28T01:09:11.386692Z",
     "start_time": "2025-04-28T01:09:11.382587Z"
    }
   },
   "cell_type": "code",
   "source": [
    "def create_oz_students(name, python, database, Django, AWS):\n",
    "    return {\"name\": name,\n",
    "            \"python\": python,\n",
    "            \"database\": database,\n",
    "            \"Django\": Django,\n",
    "            \"AWS\": AWS}\n",
    "\n",
    "oz_students = [\n",
    "    create_oz_students(\"백현우\", 4, 3, 3, 2),\n",
    "    create_oz_students(\"홍혜인\", 4, 5, 2, 4),\n",
    "    create_oz_students(\"윤은성\", 3, 4, 4, 1),\n",
    "    create_oz_students(\"홍수철\", 2, 3, 1, 5)\n",
    "]\n",
    "\n",
    "print(\"이름\", \"총점\", \"평균\", sep=\"\\t\")\n",
    "\n",
    "for student in oz_students:\n",
    "    ability_sum = student[\"python\"] + student[\"database\"] + student[\"Django\"] + student[\"AWS\"]\n",
    "    ability_average = ability_sum / 4\n",
    "\n",
    "    print(student[\"name\"], ability_sum, ability_average, sep=\"\\t\")\n",
    "\n",
    "    # 총점은 프로그래밍 활용 능력의 총합, 평균은 프로그램 활용 능력의 종합의 평균"
   ],
   "id": "cee36308ebf01398",
   "outputs": [
    {
     "name": "stdout",
     "output_type": "stream",
     "text": [
      "이름\t총점\t평균\n",
      "백현우\t12\t3.0\n",
      "홍혜인\t15\t3.75\n",
      "윤은성\t12\t3.0\n",
      "홍수철\t11\t2.75\n"
     ]
    }
   ],
   "execution_count": 13
  },
  {
   "metadata": {},
   "cell_type": "code",
   "outputs": [],
   "execution_count": null,
   "source": [
    "# 데이터 입력\n",
    "\n",
    "def create_oz_students(name, python, database, Django, AWS):\n",
    "    return {\"name\": name,\n",
    "            \"python\": python,\n",
    "            \"database\": database,\n",
    "            \"Django\": Django,\n",
    "            \"AWS\": AWS}\n",
    "\n",
    "def get_sum(student):\n",
    "    return student[\"python\"] + student[\"database\"] + student[\"Django\"] + student[\"AWS\"]\n",
    "\n",
    "def get_average(student):\n",
    "    return get_sum / 4\n",
    "\n",
    "def to_string(student):\n",
    "    return f'{student[f\"name]}\\t{get_sum(student)}\\t{get_average(student)}}'\n",
    "\n",
    "\n",
    "oz_students = [\n",
    "    create_oz_students(\"백현우\", 4, 3, 3, 2),\n",
    "    create_oz_students(\"홍혜인\", 4, 5, 2, 4),\n",
    "    create_oz_students(\"윤은성\", 3, 4, 4, 1),\n",
    "    create_oz_students(\"홍수철\", 2, 3, 1, 5)\n",
    "]\n",
    "\n",
    "# 총점은 프로그래밍 활용능력의 총합, 평균은 프로그램 활용 능력의 총합의 평균\n",
    "print(\"이름\", \"총점\", \"평균\", sep=\"\\t\")\n",
    "\n",
    "for student in oz_students:\n",
    "    print(to_string(student))"
   ],
   "id": "d57b37fee2e9eccc"
  },
  {
   "metadata": {},
   "cell_type": "markdown",
   "source": [
    "- 객체와 관련 코드를 분리할 수 있게 하는 것이 객체 지향 프로그램의 핵심\n",
    "- 개발자들은 이러한 객체 지향 프로그램을 반복적으로 만들다 보니 이러한 구조를 자동으로 만들어줄 클래스 구조를 만들게 됨\n",
    "\n",
    "\n",
    "클래스 선언하는 구조는 아래와 같습니다.\n",
    "\n",
    "'''\n",
    "\n",
    "Class 클래스 이름:\n",
    "    클래스 내용\n",
    "\n",
    "'''\n",
    "\n",
    "클래스 이름의 앞글자는 무조건 대문자입니다. -> 모두의 약속입니다. oz students -> Oz students"
   ],
   "id": "6d7c3f7e6a2f1e49"
  },
  {
   "metadata": {
    "ExecuteTime": {
     "end_time": "2025-04-28T01:21:22.702259Z",
     "start_time": "2025-04-28T01:21:22.698033Z"
    }
   },
   "cell_type": "code",
   "source": [
    "# 클래스를 선언(만들다)합니다.\n",
    "class CreateOzStudents:\n",
    "    pass\n",
    "\n",
    "# 클래스 이름과 같은 함수(생성자)를 사용해서 객체를 만듭니다.\n",
    "# 여기서 프로그래밍 언어로 함수(생성자)로 생성된 객체를 인스턴스라고 합니다.\n",
    "# class CreateOzStudent 클래스와 동일한 이름의 CreateOzStudent() 함수를 사용해 객체를 만드는데\n",
    "# 이 때 사용 CreateOzStudent() 함수를 생성자 함수라고 합니다.\n",
    "# student => 클래스를 이용해 만들어진 객체를 인스턴스라고 함\n",
    "\n",
    "student = CreateOzStudents()\n",
    "\n",
    "oz_students = [\n",
    "    create_oz_students(\"백현우\", 4, 3, 3, 2),\n",
    "    create_oz_students(\"홍혜인\", 4, 5, 2, 4),\n",
    "    create_oz_students(\"윤은성\", 3, 4, 4, 1),\n",
    "    create_oz_students(\"홍수철\", 2, 3, 1, 5)\n",
    "]"
   ],
   "id": "b80aea171d949289",
   "outputs": [],
   "execution_count": 14
  }
 ],
 "metadata": {
  "kernelspec": {
   "display_name": "Python 3",
   "language": "python",
   "name": "python3"
  },
  "language_info": {
   "codemirror_mode": {
    "name": "ipython",
    "version": 2
   },
   "file_extension": ".py",
   "mimetype": "text/x-python",
   "name": "python",
   "nbconvert_exporter": "python",
   "pygments_lexer": "ipython2",
   "version": "2.7.6"
  }
 },
 "nbformat": 4,
 "nbformat_minor": 5
}
