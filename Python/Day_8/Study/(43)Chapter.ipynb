{
 "cells": [
  {
   "cell_type": "code",
   "execution_count": null,
   "id": "initial_id",
   "metadata": {
    "collapsed": true
   },
   "outputs": [],
   "source": [
    "## 클래스를 선언(만들다)합니다.\n",
    "class CreateOzStudents:\n",
    "    pass\n",
    "\n",
    "# 이 때 CreateOzStudent() 함수를 생성자 함수라고 합니다\n",
    "student = CreateOzStudents()\n",
    "\n",
    "oz_students = [\n",
    "    create_oz_students(\"백현우\", 4, 3, 3, 2),\n",
    "    create_oz_students(\"홍혜인\", 4, 5, 2, 4),\n",
    "    create_oz_students(\"윤은성\", 3, 4, 4, 1),\n",
    "    create_oz_students(\"홍수철\", 2, 3, 1, 5)"
   ]
  },
  {
   "metadata": {
    "ExecuteTime": {
     "end_time": "2025-04-28T01:24:20.408163Z",
     "start_time": "2025-04-28T01:24:20.401537Z"
    }
   },
   "cell_type": "code",
   "source": [
    "import os\n",
    "\n",
    "os.listdir()"
   ],
   "id": "48599c3029ffa109",
   "outputs": [
    {
     "data": {
      "text/plain": [
       "['(42)Chapter.ipynb', '(43)Chapter.ipynb']"
      ]
     },
     "execution_count": 1,
     "metadata": {},
     "output_type": "execute_result"
    }
   ],
   "execution_count": 1
  },
  {
   "metadata": {
    "ExecuteTime": {
     "end_time": "2025-04-28T01:38:47.149606Z",
     "start_time": "2025-04-28T01:38:47.144801Z"
    }
   },
   "cell_type": "code",
   "source": [
    "class CreateOzStudents:\n",
    "    def __init__(self, name, python, database, django, AWS):\n",
    "        self.name = name,\n",
    "        self.python = python,\n",
    "        self.database = database,\n",
    "        self.django = django,\n",
    "        self.AWS = AWS\n",
    "\n",
    "# 데이터 입력\n",
    "oz_students =[\n",
    "    CreateOzStudents(\"백현우\", 4, 3, 3, 2), # CreateOzStudent() 생성자를 이용해 리스트 안에 데이터 생성\n",
    "    CreateOzStudents(\"홍혜인\", 4, 5, 2, 4),\n",
    "    CreateOzStudents(\"윤은성\", 3, 4, 4, 1),\n",
    "    CreateOzStudents(\"홍수철\", 2, 3, 1, 5),\n",
    "]\n",
    "\n",
    "# oz_students 인스턴스 속성에 접근하는 법\n",
    "print(oz_students[0].name)\n",
    "print(oz_students[0].python)\n",
    "print(oz_students[0].database)\n",
    "print(oz_students[0].django)\n",
    "print(oz_students[0].AWS)\n",
    "\n"
   ],
   "id": "4fff95042e844ca1",
   "outputs": [
    {
     "name": "stdout",
     "output_type": "stream",
     "text": [
      "('백현우',)\n",
      "(4,)\n",
      "(3,)\n",
      "(3,)\n",
      "2\n"
     ]
    }
   ],
   "execution_count": 16
  },
  {
   "metadata": {},
   "cell_type": "markdown",
   "source": [
    "Class 클래스 이름:\n",
    "    def 메소드 이름(self, 추가적인 매게변수)\n",
    "        pass"
   ],
   "id": "b3399d0c31df35ee"
  },
  {
   "metadata": {
    "ExecuteTime": {
     "end_time": "2025-04-28T01:40:33.500113Z",
     "start_time": "2025-04-28T01:40:33.460560Z"
    }
   },
   "cell_type": "code",
   "source": [
    "class CreateOzStudents:\n",
    "    def __init__(self, name, python, database, django, AWS):\n",
    "        self.name = name,\n",
    "        self.python = python,\n",
    "        self.database = database,\n",
    "        self.django = django,\n",
    "        self.AWS = AWS\n",
    "\n",
    "    def get_sum(self):\n",
    "        return self.python + self.database + self.django + self.AWS\n",
    "\n",
    "    def get_average(self):\n",
    "        return self.get_sum() / 4\n",
    "\n",
    "    def to_string(self):\n",
    "        return f'{self.name}\\t{self.get_sum()}\\t{self.get_average()}'\n",
    "\n",
    "# 데이터 입력\n",
    "oz_students =[\n",
    "    CreateOzStudents(\"백현우\", 4, 3, 3, 2),\n",
    "    CreateOzStudents(\"홍혜인\", 4, 5, 2, 4),\n",
    "    CreateOzStudents(\"윤은성\", 3, 4, 4, 1),\n",
    "    CreateOzStudents(\"홍수철\", 2, 3, 1, 5)\n",
    "]\n",
    "\n",
    "print(\"이름\", \"총점\", \"평균\", sep=\"\\t\")\n",
    "for student in oz_students:\n",
    "    print(student.to_string())"
   ],
   "id": "664cba4067781628",
   "outputs": [
    {
     "name": "stdout",
     "output_type": "stream",
     "text": [
      "이름\t총점\t평균\n"
     ]
    },
    {
     "ename": "TypeError",
     "evalue": "can only concatenate tuple (not \"int\") to tuple",
     "output_type": "error",
     "traceback": [
      "\u001B[31m---------------------------------------------------------------------------\u001B[39m",
      "\u001B[31mTypeError\u001B[39m                                 Traceback (most recent call last)",
      "\u001B[36mCell\u001B[39m\u001B[36m \u001B[39m\u001B[32mIn[19]\u001B[39m\u001B[32m, line 28\u001B[39m\n\u001B[32m     26\u001B[39m \u001B[38;5;28mprint\u001B[39m(\u001B[33m\"\u001B[39m\u001B[33m이름\u001B[39m\u001B[33m\"\u001B[39m, \u001B[33m\"\u001B[39m\u001B[33m총점\u001B[39m\u001B[33m\"\u001B[39m, \u001B[33m\"\u001B[39m\u001B[33m평균\u001B[39m\u001B[33m\"\u001B[39m, sep=\u001B[33m\"\u001B[39m\u001B[38;5;130;01m\\t\u001B[39;00m\u001B[33m\"\u001B[39m)\n\u001B[32m     27\u001B[39m \u001B[38;5;28;01mfor\u001B[39;00m student \u001B[38;5;129;01min\u001B[39;00m oz_students:\n\u001B[32m---> \u001B[39m\u001B[32m28\u001B[39m     \u001B[38;5;28mprint\u001B[39m(\u001B[43mstudent\u001B[49m\u001B[43m.\u001B[49m\u001B[43mto_string\u001B[49m\u001B[43m(\u001B[49m\u001B[43m)\u001B[49m)\n",
      "\u001B[36mCell\u001B[39m\u001B[36m \u001B[39m\u001B[32mIn[19]\u001B[39m\u001B[32m, line 16\u001B[39m, in \u001B[36mCreateOzStudents.to_string\u001B[39m\u001B[34m(self)\u001B[39m\n\u001B[32m     15\u001B[39m \u001B[38;5;28;01mdef\u001B[39;00m\u001B[38;5;250m \u001B[39m\u001B[34mto_string\u001B[39m(\u001B[38;5;28mself\u001B[39m):\n\u001B[32m---> \u001B[39m\u001B[32m16\u001B[39m     \u001B[38;5;28;01mreturn\u001B[39;00m \u001B[33mf\u001B[39m\u001B[33m'\u001B[39m\u001B[38;5;132;01m{\u001B[39;00m\u001B[38;5;28mself\u001B[39m.name\u001B[38;5;132;01m}\u001B[39;00m\u001B[38;5;130;01m\\t\u001B[39;00m\u001B[38;5;132;01m{\u001B[39;00m\u001B[38;5;28;43mself\u001B[39;49m\u001B[43m.\u001B[49m\u001B[43mget_sum\u001B[49m\u001B[43m(\u001B[49m\u001B[43m)\u001B[49m\u001B[38;5;132;01m}\u001B[39;00m\u001B[38;5;130;01m\\t\u001B[39;00m\u001B[38;5;132;01m{\u001B[39;00m\u001B[38;5;28mself\u001B[39m.get_average()\u001B[38;5;132;01m}\u001B[39;00m\u001B[33m'\u001B[39m\n",
      "\u001B[36mCell\u001B[39m\u001B[36m \u001B[39m\u001B[32mIn[19]\u001B[39m\u001B[32m, line 10\u001B[39m, in \u001B[36mCreateOzStudents.get_sum\u001B[39m\u001B[34m(self)\u001B[39m\n\u001B[32m      9\u001B[39m \u001B[38;5;28;01mdef\u001B[39;00m\u001B[38;5;250m \u001B[39m\u001B[34mget_sum\u001B[39m(\u001B[38;5;28mself\u001B[39m):\n\u001B[32m---> \u001B[39m\u001B[32m10\u001B[39m     \u001B[38;5;28;01mreturn\u001B[39;00m \u001B[38;5;28;43mself\u001B[39;49m\u001B[43m.\u001B[49m\u001B[43mpython\u001B[49m\u001B[43m \u001B[49m\u001B[43m+\u001B[49m\u001B[43m \u001B[49m\u001B[38;5;28;43mself\u001B[39;49m\u001B[43m.\u001B[49m\u001B[43mdatabase\u001B[49m\u001B[43m \u001B[49m\u001B[43m+\u001B[49m\u001B[43m \u001B[49m\u001B[38;5;28;43mself\u001B[39;49m\u001B[43m.\u001B[49m\u001B[43mdjango\u001B[49m\u001B[43m \u001B[49m\u001B[43m+\u001B[49m\u001B[43m \u001B[49m\u001B[38;5;28;43mself\u001B[39;49m\u001B[43m.\u001B[49m\u001B[43mAWS\u001B[49m\n",
      "\u001B[31mTypeError\u001B[39m: can only concatenate tuple (not \"int\") to tuple"
     ]
    }
   ],
   "execution_count": 19
  }
 ],
 "metadata": {
  "kernelspec": {
   "display_name": "Python 3",
   "language": "python",
   "name": "python3"
  },
  "language_info": {
   "codemirror_mode": {
    "name": "ipython",
    "version": 2
   },
   "file_extension": ".py",
   "mimetype": "text/x-python",
   "name": "python",
   "nbconvert_exporter": "python",
   "pygments_lexer": "ipython2",
   "version": "2.7.6"
  }
 },
 "nbformat": 4,
 "nbformat_minor": 5
}
