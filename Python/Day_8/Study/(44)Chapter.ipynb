{
 "cells": [
  {
   "cell_type": "code",
   "id": "initial_id",
   "metadata": {
    "collapsed": true,
    "ExecuteTime": {
     "end_time": "2025-04-28T01:50:50.909814Z",
     "start_time": "2025-04-28T01:50:50.904734Z"
    }
   },
   "source": [
    "class Student:\n",
    "    def __init__(self):\n",
    "        pass\n",
    "\n",
    "student = Student()\n",
    "\n",
    "print(\"isinstance(student, Student):\", isinstance(student, Student))"
   ],
   "outputs": [
    {
     "name": "stdout",
     "output_type": "stream",
     "text": [
      "isinstance(student, Student): True\n"
     ]
    }
   ],
   "execution_count": 2
  },
  {
   "metadata": {
    "ExecuteTime": {
     "end_time": "2025-04-28T01:55:28.409Z",
     "start_time": "2025-04-28T01:55:28.405339Z"
    }
   },
   "cell_type": "code",
   "source": [
    "class Python:\n",
    "    def python(self):\n",
    "        print(\"파이썬을 수강중입니다.\")\n",
    "\n",
    "class Java:\n",
    "    def java(self):\n",
    "        print(\"자바를 수강중입니다.\")\n",
    "\n",
    "programming_subjects = [Python(),Python(),Python(),Java(),Python()]\n",
    "\n",
    "for subject in programming_subjects:\n",
    "    if isinstance(subject, Python):\n",
    "        subject.python()\n",
    "    elif isinstance(subject, Java):\n",
    "        subject.java()"
   ],
   "id": "846db184a68543ec",
   "outputs": [
    {
     "name": "stdout",
     "output_type": "stream",
     "text": [
      "파이썬을 수강중입니다.\n",
      "파이썬을 수강중입니다.\n",
      "파이썬을 수강중입니다.\n",
      "자바를 수강중입니다.\n",
      "파이썬을 수강중입니다.\n"
     ]
    }
   ],
   "execution_count": 8
  },
  {
   "metadata": {},
   "cell_type": "code",
   "outputs": [],
   "execution_count": null,
   "source": [
    "class Student:\n",
    "    def __init__(self):\n",
    "        pass\n",
    "\n",
    "\n",
    "student = Student()\n",
    "\n",
    "student.\n",
    "\n",
    "print(\"isinstance(student, Student):\", isinstance(student, Student))"
   ],
   "id": "3893e2a493d296d5"
  },
  {
   "metadata": {
    "ExecuteTime": {
     "end_time": "2025-04-28T02:02:21.656227Z",
     "start_time": "2025-04-28T02:02:21.651205Z"
    }
   },
   "cell_type": "code",
   "source": [
    "# __str__ 이름 사용\n",
    "\n",
    "class CreateOzStudents:\n",
    "    def __init__(self, name, python, database, django, AWS):\n",
    "        self.name = name\n",
    "        self.python = python\n",
    "        self.database = database\n",
    "        self.django = django\n",
    "        self.AWS = AWS\n",
    "\n",
    "    def get_sum(self):\n",
    "        return self.python + self.database + self.django + self.AWS\n",
    "\n",
    "    def get_average(self):\n",
    "        return self.get_sum() / 4\n",
    "\n",
    "    def __str__(self):\n",
    "        return f'{self.name}\\t{self.get_sum()}\\t{self.get_average()}'\n",
    "\n",
    "# 데이터 입력\n",
    "oz_students =[\n",
    "    CreateOzStudents(\"백현우\", 4, 3, 3, 2),\n",
    "    CreateOzStudents(\"홍혜인\", 4, 5, 2, 4),\n",
    "    CreateOzStudents(\"윤은성\", 3, 4, 4, 1),\n",
    "    CreateOzStudents(\"홍수철\", 2, 3, 1, 5)\n",
    "]\n",
    "\n",
    "print(\"이름\", \"총점\", \"평균\", sep=\"\\t\")\n",
    "for student in oz_students:\n",
    "    print(str(student))\n",
    "\n",
    "# str(1)"
   ],
   "id": "eb41acc3bd0324f1",
   "outputs": [
    {
     "name": "stdout",
     "output_type": "stream",
     "text": [
      "이름\t총점\t평균\n",
      "백현우\t12\t3.0\n",
      "홍혜인\t15\t3.75\n",
      "윤은성\t12\t3.0\n",
      "홍수철\t11\t2.75\n"
     ]
    }
   ],
   "execution_count": 11
  },
  {
   "metadata": {},
   "cell_type": "code",
   "outputs": [],
   "execution_count": null,
   "source": "",
   "id": "9104c622f016a5ac"
  }
 ],
 "metadata": {
  "kernelspec": {
   "display_name": "Python 3",
   "language": "python",
   "name": "python3"
  },
  "language_info": {
   "codemirror_mode": {
    "name": "ipython",
    "version": 2
   },
   "file_extension": ".py",
   "mimetype": "text/x-python",
   "name": "python",
   "nbconvert_exporter": "python",
   "pygments_lexer": "ipython2",
   "version": "2.7.6"
  }
 },
 "nbformat": 4,
 "nbformat_minor": 5
}
