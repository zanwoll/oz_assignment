{
 "cells": [
  {
   "metadata": {
    "ExecuteTime": {
     "end_time": "2025-05-12T07:06:20.673941Z",
     "start_time": "2025-05-12T07:06:20.668436Z"
    }
   },
   "cell_type": "code",
   "source": [
    "from pymongo import MongoClient\n",
    "\n",
    "# MongoDB 인스턴스에 연결\n",
    "client = MongoClient('mongodb://localhost:27017/')\n",
    "client"
   ],
   "id": "252164d716703848",
   "outputs": [
    {
     "data": {
      "text/plain": [
       "MongoClient(host=['localhost:27017'], document_class=dict, tz_aware=False, connect=True)"
      ]
     },
     "execution_count": 3,
     "metadata": {},
     "output_type": "execute_result"
    }
   ],
   "execution_count": 3
  },
  {
   "metadata": {},
   "cell_type": "code",
   "outputs": [],
   "execution_count": null,
   "source": "client = MongoClient('mongodb://localhost:27017/')",
   "id": "61a7af3ff3eca5bd"
  },
  {
   "metadata": {
    "ExecuteTime": {
     "end_time": "2025-05-12T07:08:13.384113Z",
     "start_time": "2025-05-12T07:08:13.380462Z"
    }
   },
   "cell_type": "code",
   "source": [
    "# 데이터베이스 선택 (없으면 자동 생성)\n",
    "\n",
    "db = client['example_db']\n",
    "db"
   ],
   "id": "b3487d53790e46e1",
   "outputs": [
    {
     "data": {
      "text/plain": [
       "Database(MongoClient(host=['localhost:27017'], document_class=dict, tz_aware=False, connect=True), 'example_db')"
      ]
     },
     "execution_count": 11,
     "metadata": {},
     "output_type": "execute_result"
    }
   ],
   "execution_count": 11
  },
  {
   "metadata": {
    "ExecuteTime": {
     "end_time": "2025-05-12T07:09:31.157195Z",
     "start_time": "2025-05-12T07:09:31.153725Z"
    }
   },
   "cell_type": "code",
   "source": [
    "# 콜렉션 선택 (없으면 자동 생성)\n",
    "collection = db['example_collection']\n",
    "collection"
   ],
   "id": "460dc694c59afffe",
   "outputs": [
    {
     "data": {
      "text/plain": [
       "Collection(Database(MongoClient(host=['localhost:27017'], document_class=dict, tz_aware=False, connect=True), 'example_db'), 'example_collection')"
      ]
     },
     "execution_count": 17,
     "metadata": {},
     "output_type": "execute_result"
    }
   ],
   "execution_count": 17
  },
  {
   "metadata": {
    "ExecuteTime": {
     "end_time": "2025-05-12T07:11:15.182364Z",
     "start_time": "2025-05-12T07:11:15.153226Z"
    }
   },
   "cell_type": "code",
   "source": [
    "# 새 문서 삽입\n",
    "example_document = {\"name\": \"John\", \"age\": 30, \"city\": \"New York\"}\n",
    "collection.insert_one(example_document)"
   ],
   "id": "19e2bb8a94467366",
   "outputs": [
    {
     "data": {
      "text/plain": [
       "InsertOneResult(ObjectId('68219f13ec8253a482927bc9'), acknowledged=True)"
      ]
     },
     "execution_count": 18,
     "metadata": {},
     "output_type": "execute_result"
    }
   ],
   "execution_count": 18
  },
  {
   "metadata": {
    "ExecuteTime": {
     "end_time": "2025-05-12T07:11:25.385761Z",
     "start_time": "2025-05-12T07:11:25.380075Z"
    }
   },
   "cell_type": "code",
   "source": [
    "# 모든 문서 조회\n",
    "for doc in collection.find():\n",
    "    print(doc)"
   ],
   "id": "8c7e59a2430026af",
   "outputs": [
    {
     "name": "stdout",
     "output_type": "stream",
     "text": [
      "{'_id': ObjectId('68219f13ec8253a482927bc9'), 'name': 'John', 'age': 30, 'city': 'New York'}\n"
     ]
    }
   ],
   "execution_count": 19
  },
  {
   "metadata": {
    "ExecuteTime": {
     "end_time": "2025-05-12T07:11:31.908217Z",
     "start_time": "2025-05-12T07:11:31.903746Z"
    }
   },
   "cell_type": "code",
   "source": [
    "# 조건에 맞는 문서 조회\n",
    "query = {\"name\": \"John\"}\n",
    "for doc in collection.find(query):\n",
    "    print(doc)"
   ],
   "id": "e66566c2ab0308c2",
   "outputs": [
    {
     "name": "stdout",
     "output_type": "stream",
     "text": [
      "{'_id': ObjectId('68219f13ec8253a482927bc9'), 'name': 'John', 'age': 30, 'city': 'New York'}\n"
     ]
    }
   ],
   "execution_count": 20
  },
  {
   "metadata": {
    "ExecuteTime": {
     "end_time": "2025-05-12T07:11:51.481391Z",
     "start_time": "2025-05-12T07:11:51.475693Z"
    }
   },
   "cell_type": "code",
   "source": [
    "# 하나의 문서 업데이트\n",
    "collection.update_one({\"name\": \"John\"}, {\"$set\": {\"age\": 31}})"
   ],
   "id": "79921c8987150891",
   "outputs": [
    {
     "data": {
      "text/plain": [
       "UpdateResult({'n': 1, 'nModified': 1, 'ok': 1.0, 'updatedExisting': True}, acknowledged=True)"
      ]
     },
     "execution_count": 22,
     "metadata": {},
     "output_type": "execute_result"
    }
   ],
   "execution_count": 22
  },
  {
   "metadata": {
    "ExecuteTime": {
     "end_time": "2025-05-12T07:11:58.649744Z",
     "start_time": "2025-05-12T07:11:58.645221Z"
    }
   },
   "cell_type": "code",
   "source": [
    "# 여러 문서 업데이트\n",
    "collection.update_many({\"name\": \"John\"}, {\"$set\": {\"age\": 32}})"
   ],
   "id": "892ecaf7c4a5553d",
   "outputs": [
    {
     "data": {
      "text/plain": [
       "UpdateResult({'n': 1, 'nModified': 1, 'ok': 1.0, 'updatedExisting': True}, acknowledged=True)"
      ]
     },
     "execution_count": 23,
     "metadata": {},
     "output_type": "execute_result"
    }
   ],
   "execution_count": 23
  },
  {
   "metadata": {
    "ExecuteTime": {
     "end_time": "2025-05-12T07:12:07.930642Z",
     "start_time": "2025-05-12T07:12:07.925388Z"
    }
   },
   "cell_type": "code",
   "source": [
    "# 하나의 문서 삭제\n",
    "collection.delete_one({\"name\": \"John\"})"
   ],
   "id": "235d551fbff9263b",
   "outputs": [
    {
     "data": {
      "text/plain": [
       "DeleteResult({'n': 1, 'ok': 1.0}, acknowledged=True)"
      ]
     },
     "execution_count": 24,
     "metadata": {},
     "output_type": "execute_result"
    }
   ],
   "execution_count": 24
  },
  {
   "metadata": {
    "ExecuteTime": {
     "end_time": "2025-05-12T07:12:13.264638Z",
     "start_time": "2025-05-12T07:12:13.260727Z"
    }
   },
   "cell_type": "code",
   "source": [
    "# 여러 문서 삭제\n",
    "collection.delete_many({\"name\": \"John\"})"
   ],
   "id": "eb03116ccb8799f4",
   "outputs": [
    {
     "data": {
      "text/plain": [
       "DeleteResult({'n': 0, 'ok': 1.0}, acknowledged=True)"
      ]
     },
     "execution_count": 25,
     "metadata": {},
     "output_type": "execute_result"
    }
   ],
   "execution_count": 25
  },
  {
   "metadata": {
    "ExecuteTime": {
     "end_time": "2025-05-12T07:12:19.821181Z",
     "start_time": "2025-05-12T07:12:19.815725Z"
    }
   },
   "cell_type": "code",
   "source": [
    "# 콜렉션 삭제\n",
    "db.drop_collection(\"example_collection\")"
   ],
   "id": "4363cb97717e4550",
   "outputs": [
    {
     "data": {
      "text/plain": [
       "{'nIndexesWas': 1, 'ns': 'example_db.example_collection', 'ok': 1.0}"
      ]
     },
     "execution_count": 26,
     "metadata": {},
     "output_type": "execute_result"
    }
   ],
   "execution_count": 26
  },
  {
   "metadata": {
    "ExecuteTime": {
     "end_time": "2025-05-12T07:12:25.521645Z",
     "start_time": "2025-05-12T07:12:25.518367Z"
    }
   },
   "cell_type": "code",
   "source": [
    "# 데이터베이스 삭제\n",
    "client.drop_database(\"example_db\")"
   ],
   "id": "7b965d35e5328a2",
   "outputs": [],
   "execution_count": 27
  }
 ],
 "metadata": {
  "kernelspec": {
   "display_name": "Python 3",
   "language": "python",
   "name": "python3"
  },
  "language_info": {
   "codemirror_mode": {
    "name": "ipython",
    "version": 2
   },
   "file_extension": ".py",
   "mimetype": "text/x-python",
   "name": "python",
   "nbconvert_exporter": "python",
   "pygments_lexer": "ipython2",
   "version": "2.7.6"
  }
 },
 "nbformat": 4,
 "nbformat_minor": 5
}
