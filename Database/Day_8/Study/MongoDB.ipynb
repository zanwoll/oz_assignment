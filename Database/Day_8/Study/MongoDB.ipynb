{
 "cells": [
  {
   "metadata": {},
   "cell_type": "markdown",
   "source": [
    "MongoDB란?\n",
    "\n",
    "* NoSQL 데이터베이스의 한 종류\n",
    "* 문서 기반의 데이터베이스 시스템\n",
    "* 관계형 데이터베이스의 테이블 대신 JSON/BSON 형식의 동적인 문서를 사용하여 데이터를 저장하고 조회 => 이러한 특징은 유연성, 확장성을 가져옴\n",
    "\n",
    "\n",
    "주요 특징 및 개념\n",
    "1. 문서 기반 데이터베이스\n",
    "* 데이터를 문서라는 단위로 저장합니다. 각 문서는 키-값 쌍으로 이루어진 BSON 형식으로 표현되며, 여러 문서가 컬렉션에 저장됩니다\n",
    "\n",
    "2. 유연한 스키마\n",
    "* 동적 스키마를 사용하므로, 각 문서가 다른 구조를 가질 수 있습니다. 필드를 동적으로 추가하거나 제거할 수 있어 데이터 모델의 변경이 유연하게 이루어짐\n",
    "\n",
    "3. JSON/BSON 형식\n",
    "* 데이터는 JSON과 유사한 문서 구조를 사용하며, BSON 형식으로 이진화되어 저장됩니다. 이는 대용량 데이터 처리 및 전송에서 성능 향상을 시킴\n",
    "\n",
    "4. 높은 확장성\n",
    "* 수평적 확장이 가능합니다. 여러 서버에 데이터를 분산하고 데이터베이스의 용량을 증가시킬 수 있어 대규모 애플리케이션에 적합함\n",
    "\n",
    "5. 인덱싱과 검색 기능\n",
    "* 인덱싱을 지원하여 데이터의 검색 속도를 향상시킨다. 다양한 쿼리와 검색 연산자를 활용하여 유연한 데이터 검색이 가능함\n",
    "\n",
    "6. 자동 샤딩\n",
    "* 대용량의 데이터를 처리하기 위해 자동 샤딩 기능을 제공합니다. 이를 통해 데이터베이스가 수평으로 확장되어 성능을 유지할 수 있음."
   ],
   "id": "bdf625fbad16a0a6"
  },
  {
   "metadata": {},
   "cell_type": "markdown",
   "source": [
    "MongoDB의 구조 : Database - Collection - Document\n",
    "\n",
    "1. Database(데이터베이스)\n",
    "* 여러 개의 데이터베이스를 가질 수 있으며, 각 데이터베이스는 독립적으로 관리되고 여러 컬렉션을 포함할 수 없다.\n",
    "* 데이터베이스는 일반적으로 관련된 데이터를 그룹화하는 데 사용됨\n",
    "\n",
    "2. Collection(컬렉션)\n",
    "* 문서의 그룹으로 테이블과 유사하게 데이터를 저장하며 스키마가 없어 유연한 구조를 가지고 있다.\n",
    "* 서로 다른 Document들이 하나의 컬렉션에 저장될 수 있다.\n",
    "\n",
    "3. Document(문서)\n",
    "* 문서는 MongoDB 에서의 기본 데이터 단위로, JSON 형태의 키-값 쌍을 갖는다.\n",
    "* 각 문서는 서로 다른 구조를 가질 수 있으며, 필요에 따라 필드를 동적으로 추가할 수 있다.\n",
    "* Document는 Collection 내에 저장되며, 각 Document는 고유한 Objectid를 가짐"
   ],
   "id": "81ce8302f224e0e7"
  },
  {
   "metadata": {},
   "cell_type": "markdown",
   "source": [
    "RDBMS의 구조\n",
    "\n",
    "1. Database\n",
    "* RDBMS에서의 Database는 일반적으로 정형화된 테이블들을 그룹화하고, 각 테이블을 고정된 스키마를 가짐\n",
    "\n",
    "2. Table(테이블)\n",
    "* RDBMS의 Table은 정해진 스키마를 가진 열과 행의 구조로 이루어져 있다.\n",
    "* 각 테이블을 레코드(행) 단위로 데이터를 저장하며, 각 레코드는 미리 정의된 열에 맞춰진 데이터를 가짐\n",
    "\n",
    "3. Row(레코드)\n",
    "* RDBMS에서의 레코드는 각각의 테이블에 속하는 하나의 행을 나타냄\n",
    "* 각 레코드는 테이블의 스키마에 따라 고정된 구조를 가지고 있음."
   ],
   "id": "6987a2d3184707d3"
  },
  {
   "metadata": {},
   "cell_type": "markdown",
   "source": [
    "MongoDB와 RDBMS의 차이점 및 장점\n",
    "\n",
    "1. 유연성과 동적 스키마:\n",
    "* MongoDB는 동적 스키마를 허용하여 데이터의 유연한 구조를 제공함.\n",
    "* RDBMS는 정적인 스키마를 가지고 있어 데이터 모델을 변경하려면 일정한 절차가 필요함\n",
    "\n",
    "2. 수평적 확장:\n",
    "* MongoDB - 수평적 확장이 가능하며, 여러 서버에 데이터를 분산하여 대용량 데이터를 처리할 수 있다.\n",
    "* RDBMS - 주로 수직적 확장이 일반적이며, 서버의 성능을 업그레이드하는 방식으로 확장됨"
   ],
   "id": "95b6b016c9bdaf82"
  },
  {
   "metadata": {},
   "cell_type": "markdown",
   "source": "",
   "id": "ecba77133a3327d8"
  }
 ],
 "metadata": {
  "kernelspec": {
   "display_name": "Python 3",
   "language": "python",
   "name": "python3"
  },
  "language_info": {
   "codemirror_mode": {
    "name": "ipython",
    "version": 2
   },
   "file_extension": ".py",
   "mimetype": "text/x-python",
   "name": "python",
   "nbconvert_exporter": "python",
   "pygments_lexer": "ipython2",
   "version": "2.7.6"
  }
 },
 "nbformat": 4,
 "nbformat_minor": 5
}
