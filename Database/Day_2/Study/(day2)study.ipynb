{
 "cells": [
  {
   "metadata": {},
   "cell_type": "markdown",
   "source": [
    "SQL란?\n",
    "- 관계형 데이터베이스에서 데이터를 정의, 처리, 제어하는데 사용되는 표준화된 언어\n",
    "\n",
    "1. 데이터 정의 언어\n",
    "- CREATE : 데이터베이스 객체를 생성합니다. (CREATE TABLE, CREATE INDEX 등)\n",
    "- ALTER : 데이터베이스 객체를 수정합니다. (ALTER TABLE 등)\n",
    "- DROP : 데이터베이스 객체를 삭제합니다. (DROP TABLE 등)\n",
    "- TRUNCATE : 테이블의 모든 레코드를 삭제하지만 테이블은 유지합니다.\n",
    "\n",
    "2. 데이터 처리 언어<br>\n",
    "DML은 데이터를 검색, 삽입, 수정, 삭제하는데 사용됩니다.\n",
    "- SELECT : 데이터베이스에서 정보를 검색합니다.\n",
    "- INSERT : 새로운 데이터를 테이블에 삽입합니다.\n",
    "- UPDATE : 테이블의 기존 데이터를 수정합니다.\n",
    "- DELETE : 테이블에서 데이터를 삭제합니다.\n",
    "\n",
    "3. 데이터 제어 언어<br>\n",
    "DCL은 데이터베이스에 대한 엑세스를 제어하는데 사용됩니다.\n",
    "- GRANT : 사용자에게 특정 작업을 수행할 권한을 부여합니다.\n",
    "- REVOKE : 사용자로부터 특정 작업 수행 권한을 제거합니다.\n",
    "\n",
    "4. TCL : 데이터베이스 내의 트랜잭션을 관리하는데 사용되는 언어\n",
    "- COMMIT : 트랜잭션을 완료하고, 데이터베이스 변경사항을 영구적으로 저장\n",
    "- ROLLBACK : 트랜잭션을 취소하고, 마지막 COMMIT 이후의 모든 변경사항을 되돌림\n",
    "- SAVEPOINT : 트랜잭션 내 특정 지점을 마킹하여 필요시 그 지점으로 되돌릴 수 있음"
   ],
   "id": "76823ddda21eecc"
  }
 ],
 "metadata": {
  "kernelspec": {
   "display_name": "Python 3",
   "language": "python",
   "name": "python3"
  },
  "language_info": {
   "codemirror_mode": {
    "name": "ipython",
    "version": 2
   },
   "file_extension": ".py",
   "mimetype": "text/x-python",
   "name": "python",
   "nbconvert_exporter": "python",
   "pygments_lexer": "ipython2",
   "version": "2.7.6"
  }
 },
 "nbformat": 4,
 "nbformat_minor": 5
}
